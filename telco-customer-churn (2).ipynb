{
 "cells": [
  {
   "cell_type": "code",
   "execution_count": 1,
   "id": "ebcf05d5",
   "metadata": {
    "_cell_guid": "b1076dfc-b9ad-4769-8c92-a6c4dae69d19",
    "_uuid": "8f2839f25d086af736a60e9eeb907d3b93b6e0e5",
    "execution": {
     "iopub.execute_input": "2025-03-11T15:12:44.040416Z",
     "iopub.status.busy": "2025-03-11T15:12:44.040023Z",
     "iopub.status.idle": "2025-03-11T15:12:45.220461Z",
     "shell.execute_reply": "2025-03-11T15:12:45.219536Z"
    },
    "papermill": {
     "duration": 1.194918,
     "end_time": "2025-03-11T15:12:45.221904",
     "exception": false,
     "start_time": "2025-03-11T15:12:44.026986",
     "status": "completed"
    },
    "tags": []
   },
   "outputs": [
    {
     "name": "stdout",
     "output_type": "stream",
     "text": [
      "/kaggle/input/telco-customer-churn/WA_Fn-UseC_-Telco-Customer-Churn.csv\n"
     ]
    }
   ],
   "source": [
    "# This Python 3 environment comes with many helpful analytics libraries installed\n",
    "# It is defined by the kaggle/python Docker image: https://github.com/kaggle/docker-python\n",
    "# For example, here's several helpful packages to load\n",
    "\n",
    "import numpy as np # linear algebra\n",
    "import pandas as pd # data processing, CSV file I/O (e.g. pd.read_csv)\n",
    "\n",
    "# Input data files are available in the read-only \"../input/\" directory\n",
    "# For example, running this (by clicking run or pressing Shift+Enter) will list all files under the input directory\n",
    "\n",
    "import os\n",
    "for dirname, _, filenames in os.walk('/kaggle/input'):\n",
    "    for filename in filenames:\n",
    "        print(os.path.join(dirname, filename))\n",
    "\n",
    "# You can write up to 20GB to the current directory (/kaggle/working/) that gets preserved as output when you create a version using \"Save & Run All\" \n",
    "# You can also write temporary files to /kaggle/temp/, but they won't be saved outside of the current session"
   ]
  },
  {
   "cell_type": "code",
   "execution_count": 2,
   "id": "6d5f83ff",
   "metadata": {
    "execution": {
     "iopub.execute_input": "2025-03-11T15:12:45.241745Z",
     "iopub.status.busy": "2025-03-11T15:12:45.241418Z",
     "iopub.status.idle": "2025-03-11T15:12:48.434793Z",
     "shell.execute_reply": "2025-03-11T15:12:48.434083Z"
    },
    "papermill": {
     "duration": 3.204498,
     "end_time": "2025-03-11T15:12:48.436254",
     "exception": false,
     "start_time": "2025-03-11T15:12:45.231756",
     "status": "completed"
    },
    "tags": []
   },
   "outputs": [],
   "source": [
    "import pandas as pd \n",
    "import matplotlib.pyplot as plt\n",
    "from sklearn.preprocessing import OneHotEncoder\n",
    "import numpy as np\n",
    "import seaborn as sns\n",
    "import matplotlib.pyplot as plt\n",
    "from imblearn.over_sampling import SMOTE\n",
    "from collections import Counter\n",
    "from sklearn.metrics import classification_report"
   ]
  },
  {
   "cell_type": "markdown",
   "id": "dab3bed5",
   "metadata": {
    "papermill": {
     "duration": 0.008961,
     "end_time": "2025-03-11T15:12:48.454657",
     "exception": false,
     "start_time": "2025-03-11T15:12:48.445696",
     "status": "completed"
    },
    "tags": []
   },
   "source": [
    "# Read Data"
   ]
  },
  {
   "cell_type": "code",
   "execution_count": 3,
   "id": "e7c3c778",
   "metadata": {
    "execution": {
     "iopub.execute_input": "2025-03-11T15:12:48.477200Z",
     "iopub.status.busy": "2025-03-11T15:12:48.476810Z",
     "iopub.status.idle": "2025-03-11T15:12:48.529035Z",
     "shell.execute_reply": "2025-03-11T15:12:48.527862Z"
    },
    "papermill": {
     "duration": 0.065987,
     "end_time": "2025-03-11T15:12:48.531000",
     "exception": false,
     "start_time": "2025-03-11T15:12:48.465013",
     "status": "completed"
    },
    "tags": []
   },
   "outputs": [],
   "source": [
    "data = pd.read_csv('/kaggle/input/telco-customer-churn/WA_Fn-UseC_-Telco-Customer-Churn.csv')"
   ]
  },
  {
   "cell_type": "code",
   "execution_count": 4,
   "id": "ddff0c55",
   "metadata": {
    "execution": {
     "iopub.execute_input": "2025-03-11T15:12:48.552405Z",
     "iopub.status.busy": "2025-03-11T15:12:48.552097Z",
     "iopub.status.idle": "2025-03-11T15:12:48.606948Z",
     "shell.execute_reply": "2025-03-11T15:12:48.606103Z"
    },
    "papermill": {
     "duration": 0.066949,
     "end_time": "2025-03-11T15:12:48.608387",
     "exception": false,
     "start_time": "2025-03-11T15:12:48.541438",
     "status": "completed"
    },
    "tags": []
   },
   "outputs": [
    {
     "data": {
      "text/html": [
       "<div>\n",
       "<style scoped>\n",
       "    .dataframe tbody tr th:only-of-type {\n",
       "        vertical-align: middle;\n",
       "    }\n",
       "\n",
       "    .dataframe tbody tr th {\n",
       "        vertical-align: top;\n",
       "    }\n",
       "\n",
       "    .dataframe thead th {\n",
       "        text-align: right;\n",
       "    }\n",
       "</style>\n",
       "<table border=\"1\" class=\"dataframe\">\n",
       "  <thead>\n",
       "    <tr style=\"text-align: right;\">\n",
       "      <th></th>\n",
       "      <th>customerID</th>\n",
       "      <th>gender</th>\n",
       "      <th>SeniorCitizen</th>\n",
       "      <th>Partner</th>\n",
       "      <th>Dependents</th>\n",
       "      <th>tenure</th>\n",
       "      <th>PhoneService</th>\n",
       "      <th>MultipleLines</th>\n",
       "      <th>InternetService</th>\n",
       "      <th>OnlineSecurity</th>\n",
       "      <th>...</th>\n",
       "      <th>DeviceProtection</th>\n",
       "      <th>TechSupport</th>\n",
       "      <th>StreamingTV</th>\n",
       "      <th>StreamingMovies</th>\n",
       "      <th>Contract</th>\n",
       "      <th>PaperlessBilling</th>\n",
       "      <th>PaymentMethod</th>\n",
       "      <th>MonthlyCharges</th>\n",
       "      <th>TotalCharges</th>\n",
       "      <th>Churn</th>\n",
       "    </tr>\n",
       "  </thead>\n",
       "  <tbody>\n",
       "    <tr>\n",
       "      <th>0</th>\n",
       "      <td>7590-VHVEG</td>\n",
       "      <td>Female</td>\n",
       "      <td>0</td>\n",
       "      <td>Yes</td>\n",
       "      <td>No</td>\n",
       "      <td>1</td>\n",
       "      <td>No</td>\n",
       "      <td>No phone service</td>\n",
       "      <td>DSL</td>\n",
       "      <td>No</td>\n",
       "      <td>...</td>\n",
       "      <td>No</td>\n",
       "      <td>No</td>\n",
       "      <td>No</td>\n",
       "      <td>No</td>\n",
       "      <td>Month-to-month</td>\n",
       "      <td>Yes</td>\n",
       "      <td>Electronic check</td>\n",
       "      <td>29.85</td>\n",
       "      <td>29.85</td>\n",
       "      <td>No</td>\n",
       "    </tr>\n",
       "    <tr>\n",
       "      <th>1</th>\n",
       "      <td>5575-GNVDE</td>\n",
       "      <td>Male</td>\n",
       "      <td>0</td>\n",
       "      <td>No</td>\n",
       "      <td>No</td>\n",
       "      <td>34</td>\n",
       "      <td>Yes</td>\n",
       "      <td>No</td>\n",
       "      <td>DSL</td>\n",
       "      <td>Yes</td>\n",
       "      <td>...</td>\n",
       "      <td>Yes</td>\n",
       "      <td>No</td>\n",
       "      <td>No</td>\n",
       "      <td>No</td>\n",
       "      <td>One year</td>\n",
       "      <td>No</td>\n",
       "      <td>Mailed check</td>\n",
       "      <td>56.95</td>\n",
       "      <td>1889.5</td>\n",
       "      <td>No</td>\n",
       "    </tr>\n",
       "    <tr>\n",
       "      <th>2</th>\n",
       "      <td>3668-QPYBK</td>\n",
       "      <td>Male</td>\n",
       "      <td>0</td>\n",
       "      <td>No</td>\n",
       "      <td>No</td>\n",
       "      <td>2</td>\n",
       "      <td>Yes</td>\n",
       "      <td>No</td>\n",
       "      <td>DSL</td>\n",
       "      <td>Yes</td>\n",
       "      <td>...</td>\n",
       "      <td>No</td>\n",
       "      <td>No</td>\n",
       "      <td>No</td>\n",
       "      <td>No</td>\n",
       "      <td>Month-to-month</td>\n",
       "      <td>Yes</td>\n",
       "      <td>Mailed check</td>\n",
       "      <td>53.85</td>\n",
       "      <td>108.15</td>\n",
       "      <td>Yes</td>\n",
       "    </tr>\n",
       "    <tr>\n",
       "      <th>3</th>\n",
       "      <td>7795-CFOCW</td>\n",
       "      <td>Male</td>\n",
       "      <td>0</td>\n",
       "      <td>No</td>\n",
       "      <td>No</td>\n",
       "      <td>45</td>\n",
       "      <td>No</td>\n",
       "      <td>No phone service</td>\n",
       "      <td>DSL</td>\n",
       "      <td>Yes</td>\n",
       "      <td>...</td>\n",
       "      <td>Yes</td>\n",
       "      <td>Yes</td>\n",
       "      <td>No</td>\n",
       "      <td>No</td>\n",
       "      <td>One year</td>\n",
       "      <td>No</td>\n",
       "      <td>Bank transfer (automatic)</td>\n",
       "      <td>42.30</td>\n",
       "      <td>1840.75</td>\n",
       "      <td>No</td>\n",
       "    </tr>\n",
       "    <tr>\n",
       "      <th>4</th>\n",
       "      <td>9237-HQITU</td>\n",
       "      <td>Female</td>\n",
       "      <td>0</td>\n",
       "      <td>No</td>\n",
       "      <td>No</td>\n",
       "      <td>2</td>\n",
       "      <td>Yes</td>\n",
       "      <td>No</td>\n",
       "      <td>Fiber optic</td>\n",
       "      <td>No</td>\n",
       "      <td>...</td>\n",
       "      <td>No</td>\n",
       "      <td>No</td>\n",
       "      <td>No</td>\n",
       "      <td>No</td>\n",
       "      <td>Month-to-month</td>\n",
       "      <td>Yes</td>\n",
       "      <td>Electronic check</td>\n",
       "      <td>70.70</td>\n",
       "      <td>151.65</td>\n",
       "      <td>Yes</td>\n",
       "    </tr>\n",
       "    <tr>\n",
       "      <th>...</th>\n",
       "      <td>...</td>\n",
       "      <td>...</td>\n",
       "      <td>...</td>\n",
       "      <td>...</td>\n",
       "      <td>...</td>\n",
       "      <td>...</td>\n",
       "      <td>...</td>\n",
       "      <td>...</td>\n",
       "      <td>...</td>\n",
       "      <td>...</td>\n",
       "      <td>...</td>\n",
       "      <td>...</td>\n",
       "      <td>...</td>\n",
       "      <td>...</td>\n",
       "      <td>...</td>\n",
       "      <td>...</td>\n",
       "      <td>...</td>\n",
       "      <td>...</td>\n",
       "      <td>...</td>\n",
       "      <td>...</td>\n",
       "      <td>...</td>\n",
       "    </tr>\n",
       "    <tr>\n",
       "      <th>7038</th>\n",
       "      <td>6840-RESVB</td>\n",
       "      <td>Male</td>\n",
       "      <td>0</td>\n",
       "      <td>Yes</td>\n",
       "      <td>Yes</td>\n",
       "      <td>24</td>\n",
       "      <td>Yes</td>\n",
       "      <td>Yes</td>\n",
       "      <td>DSL</td>\n",
       "      <td>Yes</td>\n",
       "      <td>...</td>\n",
       "      <td>Yes</td>\n",
       "      <td>Yes</td>\n",
       "      <td>Yes</td>\n",
       "      <td>Yes</td>\n",
       "      <td>One year</td>\n",
       "      <td>Yes</td>\n",
       "      <td>Mailed check</td>\n",
       "      <td>84.80</td>\n",
       "      <td>1990.5</td>\n",
       "      <td>No</td>\n",
       "    </tr>\n",
       "    <tr>\n",
       "      <th>7039</th>\n",
       "      <td>2234-XADUH</td>\n",
       "      <td>Female</td>\n",
       "      <td>0</td>\n",
       "      <td>Yes</td>\n",
       "      <td>Yes</td>\n",
       "      <td>72</td>\n",
       "      <td>Yes</td>\n",
       "      <td>Yes</td>\n",
       "      <td>Fiber optic</td>\n",
       "      <td>No</td>\n",
       "      <td>...</td>\n",
       "      <td>Yes</td>\n",
       "      <td>No</td>\n",
       "      <td>Yes</td>\n",
       "      <td>Yes</td>\n",
       "      <td>One year</td>\n",
       "      <td>Yes</td>\n",
       "      <td>Credit card (automatic)</td>\n",
       "      <td>103.20</td>\n",
       "      <td>7362.9</td>\n",
       "      <td>No</td>\n",
       "    </tr>\n",
       "    <tr>\n",
       "      <th>7040</th>\n",
       "      <td>4801-JZAZL</td>\n",
       "      <td>Female</td>\n",
       "      <td>0</td>\n",
       "      <td>Yes</td>\n",
       "      <td>Yes</td>\n",
       "      <td>11</td>\n",
       "      <td>No</td>\n",
       "      <td>No phone service</td>\n",
       "      <td>DSL</td>\n",
       "      <td>Yes</td>\n",
       "      <td>...</td>\n",
       "      <td>No</td>\n",
       "      <td>No</td>\n",
       "      <td>No</td>\n",
       "      <td>No</td>\n",
       "      <td>Month-to-month</td>\n",
       "      <td>Yes</td>\n",
       "      <td>Electronic check</td>\n",
       "      <td>29.60</td>\n",
       "      <td>346.45</td>\n",
       "      <td>No</td>\n",
       "    </tr>\n",
       "    <tr>\n",
       "      <th>7041</th>\n",
       "      <td>8361-LTMKD</td>\n",
       "      <td>Male</td>\n",
       "      <td>1</td>\n",
       "      <td>Yes</td>\n",
       "      <td>No</td>\n",
       "      <td>4</td>\n",
       "      <td>Yes</td>\n",
       "      <td>Yes</td>\n",
       "      <td>Fiber optic</td>\n",
       "      <td>No</td>\n",
       "      <td>...</td>\n",
       "      <td>No</td>\n",
       "      <td>No</td>\n",
       "      <td>No</td>\n",
       "      <td>No</td>\n",
       "      <td>Month-to-month</td>\n",
       "      <td>Yes</td>\n",
       "      <td>Mailed check</td>\n",
       "      <td>74.40</td>\n",
       "      <td>306.6</td>\n",
       "      <td>Yes</td>\n",
       "    </tr>\n",
       "    <tr>\n",
       "      <th>7042</th>\n",
       "      <td>3186-AJIEK</td>\n",
       "      <td>Male</td>\n",
       "      <td>0</td>\n",
       "      <td>No</td>\n",
       "      <td>No</td>\n",
       "      <td>66</td>\n",
       "      <td>Yes</td>\n",
       "      <td>No</td>\n",
       "      <td>Fiber optic</td>\n",
       "      <td>Yes</td>\n",
       "      <td>...</td>\n",
       "      <td>Yes</td>\n",
       "      <td>Yes</td>\n",
       "      <td>Yes</td>\n",
       "      <td>Yes</td>\n",
       "      <td>Two year</td>\n",
       "      <td>Yes</td>\n",
       "      <td>Bank transfer (automatic)</td>\n",
       "      <td>105.65</td>\n",
       "      <td>6844.5</td>\n",
       "      <td>No</td>\n",
       "    </tr>\n",
       "  </tbody>\n",
       "</table>\n",
       "<p>7043 rows × 21 columns</p>\n",
       "</div>"
      ],
      "text/plain": [
       "      customerID  gender  SeniorCitizen Partner Dependents  tenure  \\\n",
       "0     7590-VHVEG  Female              0     Yes         No       1   \n",
       "1     5575-GNVDE    Male              0      No         No      34   \n",
       "2     3668-QPYBK    Male              0      No         No       2   \n",
       "3     7795-CFOCW    Male              0      No         No      45   \n",
       "4     9237-HQITU  Female              0      No         No       2   \n",
       "...          ...     ...            ...     ...        ...     ...   \n",
       "7038  6840-RESVB    Male              0     Yes        Yes      24   \n",
       "7039  2234-XADUH  Female              0     Yes        Yes      72   \n",
       "7040  4801-JZAZL  Female              0     Yes        Yes      11   \n",
       "7041  8361-LTMKD    Male              1     Yes         No       4   \n",
       "7042  3186-AJIEK    Male              0      No         No      66   \n",
       "\n",
       "     PhoneService     MultipleLines InternetService OnlineSecurity  ...  \\\n",
       "0              No  No phone service             DSL             No  ...   \n",
       "1             Yes                No             DSL            Yes  ...   \n",
       "2             Yes                No             DSL            Yes  ...   \n",
       "3              No  No phone service             DSL            Yes  ...   \n",
       "4             Yes                No     Fiber optic             No  ...   \n",
       "...           ...               ...             ...            ...  ...   \n",
       "7038          Yes               Yes             DSL            Yes  ...   \n",
       "7039          Yes               Yes     Fiber optic             No  ...   \n",
       "7040           No  No phone service             DSL            Yes  ...   \n",
       "7041          Yes               Yes     Fiber optic             No  ...   \n",
       "7042          Yes                No     Fiber optic            Yes  ...   \n",
       "\n",
       "     DeviceProtection TechSupport StreamingTV StreamingMovies        Contract  \\\n",
       "0                  No          No          No              No  Month-to-month   \n",
       "1                 Yes          No          No              No        One year   \n",
       "2                  No          No          No              No  Month-to-month   \n",
       "3                 Yes         Yes          No              No        One year   \n",
       "4                  No          No          No              No  Month-to-month   \n",
       "...               ...         ...         ...             ...             ...   \n",
       "7038              Yes         Yes         Yes             Yes        One year   \n",
       "7039              Yes          No         Yes             Yes        One year   \n",
       "7040               No          No          No              No  Month-to-month   \n",
       "7041               No          No          No              No  Month-to-month   \n",
       "7042              Yes         Yes         Yes             Yes        Two year   \n",
       "\n",
       "     PaperlessBilling              PaymentMethod MonthlyCharges  TotalCharges  \\\n",
       "0                 Yes           Electronic check          29.85         29.85   \n",
       "1                  No               Mailed check          56.95        1889.5   \n",
       "2                 Yes               Mailed check          53.85        108.15   \n",
       "3                  No  Bank transfer (automatic)          42.30       1840.75   \n",
       "4                 Yes           Electronic check          70.70        151.65   \n",
       "...               ...                        ...            ...           ...   \n",
       "7038              Yes               Mailed check          84.80        1990.5   \n",
       "7039              Yes    Credit card (automatic)         103.20        7362.9   \n",
       "7040              Yes           Electronic check          29.60        346.45   \n",
       "7041              Yes               Mailed check          74.40         306.6   \n",
       "7042              Yes  Bank transfer (automatic)         105.65        6844.5   \n",
       "\n",
       "     Churn  \n",
       "0       No  \n",
       "1       No  \n",
       "2      Yes  \n",
       "3       No  \n",
       "4      Yes  \n",
       "...    ...  \n",
       "7038    No  \n",
       "7039    No  \n",
       "7040    No  \n",
       "7041   Yes  \n",
       "7042    No  \n",
       "\n",
       "[7043 rows x 21 columns]"
      ]
     },
     "execution_count": 4,
     "metadata": {},
     "output_type": "execute_result"
    }
   ],
   "source": [
    "data"
   ]
  },
  {
   "cell_type": "code",
   "execution_count": 5,
   "id": "c7191217",
   "metadata": {
    "execution": {
     "iopub.execute_input": "2025-03-11T15:12:48.628244Z",
     "iopub.status.busy": "2025-03-11T15:12:48.628016Z",
     "iopub.status.idle": "2025-03-11T15:12:48.632463Z",
     "shell.execute_reply": "2025-03-11T15:12:48.631791Z"
    },
    "papermill": {
     "duration": 0.01531,
     "end_time": "2025-03-11T15:12:48.633521",
     "exception": false,
     "start_time": "2025-03-11T15:12:48.618211",
     "status": "completed"
    },
    "tags": []
   },
   "outputs": [
    {
     "data": {
      "text/plain": [
       "(7043, 21)"
      ]
     },
     "execution_count": 5,
     "metadata": {},
     "output_type": "execute_result"
    }
   ],
   "source": [
    "data.shape"
   ]
  },
  {
   "cell_type": "code",
   "execution_count": 6,
   "id": "125265b3",
   "metadata": {
    "execution": {
     "iopub.execute_input": "2025-03-11T15:12:48.653188Z",
     "iopub.status.busy": "2025-03-11T15:12:48.652983Z",
     "iopub.status.idle": "2025-03-11T15:12:48.682764Z",
     "shell.execute_reply": "2025-03-11T15:12:48.681620Z"
    },
    "papermill": {
     "duration": 0.04133,
     "end_time": "2025-03-11T15:12:48.684144",
     "exception": false,
     "start_time": "2025-03-11T15:12:48.642814",
     "status": "completed"
    },
    "tags": []
   },
   "outputs": [
    {
     "name": "stdout",
     "output_type": "stream",
     "text": [
      "<class 'pandas.core.frame.DataFrame'>\n",
      "RangeIndex: 7043 entries, 0 to 7042\n",
      "Data columns (total 21 columns):\n",
      " #   Column            Non-Null Count  Dtype  \n",
      "---  ------            --------------  -----  \n",
      " 0   customerID        7043 non-null   object \n",
      " 1   gender            7043 non-null   object \n",
      " 2   SeniorCitizen     7043 non-null   int64  \n",
      " 3   Partner           7043 non-null   object \n",
      " 4   Dependents        7043 non-null   object \n",
      " 5   tenure            7043 non-null   int64  \n",
      " 6   PhoneService      7043 non-null   object \n",
      " 7   MultipleLines     7043 non-null   object \n",
      " 8   InternetService   7043 non-null   object \n",
      " 9   OnlineSecurity    7043 non-null   object \n",
      " 10  OnlineBackup      7043 non-null   object \n",
      " 11  DeviceProtection  7043 non-null   object \n",
      " 12  TechSupport       7043 non-null   object \n",
      " 13  StreamingTV       7043 non-null   object \n",
      " 14  StreamingMovies   7043 non-null   object \n",
      " 15  Contract          7043 non-null   object \n",
      " 16  PaperlessBilling  7043 non-null   object \n",
      " 17  PaymentMethod     7043 non-null   object \n",
      " 18  MonthlyCharges    7043 non-null   float64\n",
      " 19  TotalCharges      7043 non-null   object \n",
      " 20  Churn             7043 non-null   object \n",
      "dtypes: float64(1), int64(2), object(18)\n",
      "memory usage: 1.1+ MB\n"
     ]
    }
   ],
   "source": [
    "data.info()"
   ]
  },
  {
   "cell_type": "code",
   "execution_count": 7,
   "id": "bc11825e",
   "metadata": {
    "execution": {
     "iopub.execute_input": "2025-03-11T15:12:48.705229Z",
     "iopub.status.busy": "2025-03-11T15:12:48.704981Z",
     "iopub.status.idle": "2025-03-11T15:12:48.716713Z",
     "shell.execute_reply": "2025-03-11T15:12:48.715927Z"
    },
    "papermill": {
     "duration": 0.023798,
     "end_time": "2025-03-11T15:12:48.718003",
     "exception": false,
     "start_time": "2025-03-11T15:12:48.694205",
     "status": "completed"
    },
    "tags": []
   },
   "outputs": [
    {
     "data": {
      "text/plain": [
       "customerID          0\n",
       "gender              0\n",
       "SeniorCitizen       0\n",
       "Partner             0\n",
       "Dependents          0\n",
       "tenure              0\n",
       "PhoneService        0\n",
       "MultipleLines       0\n",
       "InternetService     0\n",
       "OnlineSecurity      0\n",
       "OnlineBackup        0\n",
       "DeviceProtection    0\n",
       "TechSupport         0\n",
       "StreamingTV         0\n",
       "StreamingMovies     0\n",
       "Contract            0\n",
       "PaperlessBilling    0\n",
       "PaymentMethod       0\n",
       "MonthlyCharges      0\n",
       "TotalCharges        0\n",
       "Churn               0\n",
       "dtype: int64"
      ]
     },
     "execution_count": 7,
     "metadata": {},
     "output_type": "execute_result"
    }
   ],
   "source": [
    "data.isna().sum()"
   ]
  },
  {
   "cell_type": "code",
   "execution_count": 8,
   "id": "f586feb0",
   "metadata": {
    "execution": {
     "iopub.execute_input": "2025-03-11T15:12:48.738742Z",
     "iopub.status.busy": "2025-03-11T15:12:48.738495Z",
     "iopub.status.idle": "2025-03-11T15:12:48.747102Z",
     "shell.execute_reply": "2025-03-11T15:12:48.746231Z"
    },
    "papermill": {
     "duration": 0.020335,
     "end_time": "2025-03-11T15:12:48.748426",
     "exception": false,
     "start_time": "2025-03-11T15:12:48.728091",
     "status": "completed"
    },
    "tags": []
   },
   "outputs": [],
   "source": [
    "data['TotalCharges'] = pd.to_numeric(data['TotalCharges'], errors='coerce')\n",
    "data = data.dropna(subset=['TotalCharges'])"
   ]
  },
  {
   "cell_type": "code",
   "execution_count": 9,
   "id": "6b47ed1b",
   "metadata": {
    "execution": {
     "iopub.execute_input": "2025-03-11T15:12:48.768437Z",
     "iopub.status.busy": "2025-03-11T15:12:48.768187Z",
     "iopub.status.idle": "2025-03-11T15:12:48.773234Z",
     "shell.execute_reply": "2025-03-11T15:12:48.772261Z"
    },
    "papermill": {
     "duration": 0.01655,
     "end_time": "2025-03-11T15:12:48.774697",
     "exception": false,
     "start_time": "2025-03-11T15:12:48.758147",
     "status": "completed"
    },
    "tags": []
   },
   "outputs": [
    {
     "name": "stderr",
     "output_type": "stream",
     "text": [
      "<ipython-input-9-b7bcfbff6166>:1: SettingWithCopyWarning: \n",
      "A value is trying to be set on a copy of a slice from a DataFrame.\n",
      "Try using .loc[row_indexer,col_indexer] = value instead\n",
      "\n",
      "See the caveats in the documentation: https://pandas.pydata.org/pandas-docs/stable/user_guide/indexing.html#returning-a-view-versus-a-copy\n",
      "  data['Churn'] = data['Churn'].map({'Yes': 1, 'No': 0})\n"
     ]
    }
   ],
   "source": [
    "data['Churn'] = data['Churn'].map({'Yes': 1, 'No': 0})"
   ]
  },
  {
   "cell_type": "code",
   "execution_count": 10,
   "id": "355050f1",
   "metadata": {
    "execution": {
     "iopub.execute_input": "2025-03-11T15:12:48.794788Z",
     "iopub.status.busy": "2025-03-11T15:12:48.794587Z",
     "iopub.status.idle": "2025-03-11T15:12:48.799697Z",
     "shell.execute_reply": "2025-03-11T15:12:48.798979Z"
    },
    "papermill": {
     "duration": 0.016515,
     "end_time": "2025-03-11T15:12:48.800813",
     "exception": false,
     "start_time": "2025-03-11T15:12:48.784298",
     "status": "completed"
    },
    "tags": []
   },
   "outputs": [
    {
     "data": {
      "text/plain": [
       "0       0\n",
       "1       0\n",
       "2       1\n",
       "3       0\n",
       "4       1\n",
       "       ..\n",
       "7038    0\n",
       "7039    0\n",
       "7040    0\n",
       "7041    1\n",
       "7042    0\n",
       "Name: Churn, Length: 7032, dtype: int64"
      ]
     },
     "execution_count": 10,
     "metadata": {},
     "output_type": "execute_result"
    }
   ],
   "source": [
    "data['Churn']"
   ]
  },
  {
   "cell_type": "markdown",
   "id": "e073f7a0",
   "metadata": {
    "papermill": {
     "duration": 0.009494,
     "end_time": "2025-03-11T15:12:48.819936",
     "exception": false,
     "start_time": "2025-03-11T15:12:48.810442",
     "status": "completed"
    },
    "tags": []
   },
   "source": [
    "# Why Churn?"
   ]
  },
  {
   "cell_type": "markdown",
   "id": "13f4523a",
   "metadata": {
    "papermill": {
     "duration": 0.009555,
     "end_time": "2025-03-11T15:12:48.838984",
     "exception": false,
     "start_time": "2025-03-11T15:12:48.829429",
     "status": "completed"
    },
    "tags": []
   },
   "source": [
    "## Churn vs Charges"
   ]
  },
  {
   "cell_type": "code",
   "execution_count": 11,
   "id": "d6ca7165",
   "metadata": {
    "execution": {
     "iopub.execute_input": "2025-03-11T15:12:48.858741Z",
     "iopub.status.busy": "2025-03-11T15:12:48.858520Z",
     "iopub.status.idle": "2025-03-11T15:12:49.367062Z",
     "shell.execute_reply": "2025-03-11T15:12:49.366131Z"
    },
    "papermill": {
     "duration": 0.520078,
     "end_time": "2025-03-11T15:12:49.368476",
     "exception": false,
     "start_time": "2025-03-11T15:12:48.848398",
     "status": "completed"
    },
    "tags": []
   },
   "outputs": [
    {
     "data": {
      "image/png": "[encoded data removed]",
      "text/plain": [
       "<Figure size 1500x600 with 2 Axes>"
      ]
     },
     "metadata": {},
     "output_type": "display_data"
    }
   ],
   "source": [
    "import seaborn as sns\n",
    "import matplotlib.pyplot as plt\n",
    "import pandas as pd\n",
    "\n",
    "\n",
    "\n",
    "fig, axes = plt.subplots(1, 2, figsize=(15, 6))\n",
    "\n",
    "sns.boxplot(x=data['Churn'], y=data['MonthlyCharges'], palette=[\"pink\", \"purple\"], ax=axes[0])\n",
    "axes[0].set_title('Monthly Charges vs Churn')\n",
    "axes[0].set_xlabel('Churn')\n",
    "axes[0].set_ylabel('Monthly Charges')\n",
    "\n",
    "\n",
    "sns.boxplot(x=data['Churn'], y=data['TotalCharges'], palette=[\"pink\", \"purple\"], ax=axes[1])\n",
    "axes[1].set_title('Total Charges vs Churn')\n",
    "axes[1].set_xlabel('Churn')\n",
    "axes[1].set_ylabel('Total Charges')\n",
    "\n",
    "plt.tight_layout()\n",
    "plt.show()\n"
   ]
  },
  {
   "cell_type": "markdown",
   "id": "95f0cfad",
   "metadata": {
    "papermill": {
     "duration": 0.011357,
     "end_time": "2025-03-11T15:12:49.391010",
     "exception": false,
     "start_time": "2025-03-11T15:12:49.379653",
     "status": "completed"
    },
    "tags": []
   },
   "source": [
    "## Churn Rate by Service"
   ]
  },
  {
   "cell_type": "code",
   "execution_count": 12,
   "id": "197d3015",
   "metadata": {
    "execution": {
     "iopub.execute_input": "2025-03-11T15:12:49.412440Z",
     "iopub.status.busy": "2025-03-11T15:12:49.412155Z",
     "iopub.status.idle": "2025-03-11T15:12:49.429241Z",
     "shell.execute_reply": "2025-03-11T15:12:49.428585Z"
    },
    "papermill": {
     "duration": 0.029165,
     "end_time": "2025-03-11T15:12:49.430475",
     "exception": false,
     "start_time": "2025-03-11T15:12:49.401310",
     "status": "completed"
    },
    "tags": []
   },
   "outputs": [],
   "source": [
    "service_cols = ['PhoneService', 'MultipleLines', 'InternetService', 'OnlineSecurity',\n",
    "                'OnlineBackup', 'DeviceProtection', 'TechSupport', 'StreamingTV', 'StreamingMovies']\n",
    "\n",
    "total_churned = data[data['Churn'] == 1].shape[0]\n",
    "\n",
    "service_churn_counts = {}\n",
    "\n",
    "for service in service_cols:\n",
    "    churn_counts = data[data['Churn'] == 1][service].value_counts()\n",
    "    service_churn_counts[service] = (churn_counts / total_churned) * 100 "
   ]
  },
  {
   "cell_type": "code",
   "execution_count": 13,
   "id": "939d1f80",
   "metadata": {
    "execution": {
     "iopub.execute_input": "2025-03-11T15:12:49.451986Z",
     "iopub.status.busy": "2025-03-11T15:12:49.451759Z",
     "iopub.status.idle": "2025-03-11T15:12:49.838195Z",
     "shell.execute_reply": "2025-03-11T15:12:49.837347Z"
    },
    "papermill": {
     "duration": 0.398903,
     "end_time": "2025-03-11T15:12:49.839698",
     "exception": false,
     "start_time": "2025-03-11T15:12:49.440795",
     "status": "completed"
    },
    "tags": []
   },
   "outputs": [
    {
     "data": {
      "image/png": "[encoded data removed]",
      "text/plain": [
       "<Figure size 1400x700 with 1 Axes>"
      ]
     },
     "metadata": {},
     "output_type": "display_data"
    }
   ],
   "source": [
    "service_churn_df = pd.DataFrame(service_churn_counts)\n",
    "\n",
    "service_churn_df.T.plot(kind='bar', figsize=(14, 7), colormap='plasma', edgecolor='black', width=0.8)\n",
    "\n",
    "plt.title('Percentage of Churned Customers by Service', fontsize=18)\n",
    "plt.ylabel('Churned Customers (%)', fontsize=14)\n",
    "plt.xlabel('Service', fontsize=14)\n",
    "plt.xticks(rotation=45, fontsize=12)  \n",
    "plt.yticks(fontsize=12)\n",
    "plt.grid(axis='y', linestyle='--', alpha=0.7)\n",
    "plt.legend(title='Service Status', bbox_to_anchor=(1.05, 1), loc='upper left')\n",
    "\n",
    "plt.show()\n"
   ]
  },
  {
   "cell_type": "code",
   "execution_count": 14,
   "id": "b94db40f",
   "metadata": {
    "execution": {
     "iopub.execute_input": "2025-03-11T15:12:49.864592Z",
     "iopub.status.busy": "2025-03-11T15:12:49.864361Z",
     "iopub.status.idle": "2025-03-11T15:12:49.872825Z",
     "shell.execute_reply": "2025-03-11T15:12:49.872099Z"
    },
    "papermill": {
     "duration": 0.022023,
     "end_time": "2025-03-11T15:12:49.874005",
     "exception": false,
     "start_time": "2025-03-11T15:12:49.851982",
     "status": "completed"
    },
    "tags": []
   },
   "outputs": [
    {
     "data": {
      "text/plain": [
       "{'PhoneService': PhoneService\n",
       " Yes    90.904227\n",
       " No      9.095773\n",
       " Name: count, dtype: float64,\n",
       " 'MultipleLines': MultipleLines\n",
       " Yes                 45.478866\n",
       " No                  45.425361\n",
       " No phone service     9.095773\n",
       " Name: count, dtype: float64,\n",
       " 'InternetService': InternetService\n",
       " Fiber optic    69.395399\n",
       " DSL            24.558587\n",
       " No              6.046014\n",
       " Name: count, dtype: float64,\n",
       " 'OnlineSecurity': OnlineSecurity\n",
       " No                     78.170144\n",
       " Yes                    15.783842\n",
       " No internet service     6.046014\n",
       " Name: count, dtype: float64,\n",
       " 'OnlineBackup': OnlineBackup\n",
       " No                     65.971108\n",
       " Yes                    27.982879\n",
       " No internet service     6.046014\n",
       " Name: count, dtype: float64,\n",
       " 'DeviceProtection': DeviceProtection\n",
       " No                     64.794007\n",
       " Yes                    29.159979\n",
       " No internet service     6.046014\n",
       " Name: count, dtype: float64,\n",
       " 'TechSupport': TechSupport\n",
       " No                     77.367576\n",
       " Yes                    16.586410\n",
       " No internet service     6.046014\n",
       " Name: count, dtype: float64,\n",
       " 'StreamingTV': StreamingTV\n",
       " No                     50.401284\n",
       " Yes                    43.552702\n",
       " No internet service     6.046014\n",
       " Name: count, dtype: float64,\n",
       " 'StreamingMovies': StreamingMovies\n",
       " No                     50.187266\n",
       " Yes                    43.766720\n",
       " No internet service     6.046014\n",
       " Name: count, dtype: float64}"
      ]
     },
     "execution_count": 14,
     "metadata": {},
     "output_type": "execute_result"
    }
   ],
   "source": [
    "service_churn_counts"
   ]
  },
  {
   "cell_type": "code",
   "execution_count": 15,
   "id": "bd4fb79e",
   "metadata": {
    "execution": {
     "iopub.execute_input": "2025-03-11T15:12:49.898473Z",
     "iopub.status.busy": "2025-03-11T15:12:49.898219Z",
     "iopub.status.idle": "2025-03-11T15:12:50.139119Z",
     "shell.execute_reply": "2025-03-11T15:12:50.138201Z"
    },
    "papermill": {
     "duration": 0.254705,
     "end_time": "2025-03-11T15:12:50.140634",
     "exception": false,
     "start_time": "2025-03-11T15:12:49.885929",
     "status": "completed"
    },
    "tags": []
   },
   "outputs": [
    {
     "data": {
      "image/png": "[encoded data removed]",
      "text/plain": [
       "<Figure size 1200x600 with 1 Axes>"
      ]
     },
     "metadata": {},
     "output_type": "display_data"
    }
   ],
   "source": [
    "service_churn_countss = {\n",
    "    service: (data[(data['Churn'] == 1) & (data[service] != 'No') & (data[service] != 'No phone service') & (data[service] != 'No internet service') ].shape[0] / total_churned) * 100\n",
    "    for service in service_cols\n",
    "}\n",
    "\n",
    "service_churn_df = pd.DataFrame.from_dict(service_churn_countss, orient='index', columns=['Churn Percentage'])\n",
    "\n",
    "\n",
    "# Plot\n",
    "ax = service_churn_df.plot(kind='bar', figsize=(12, 6), color='purple', edgecolor='black')\n",
    "plt.title('Percentage of Churned Customers by Service', fontsize=14)\n",
    "plt.ylabel('Churned Customers (%)', fontsize=14)\n",
    "plt.xlabel('Service', fontsize=14)\n",
    "plt.xticks(rotation=45, fontsize=12)\n",
    "plt.yticks(fontsize=12)\n",
    "plt.grid(axis='y', linestyle='--', alpha=0.7) \n",
    "plt.show()\n"
   ]
  },
  {
   "cell_type": "code",
   "execution_count": 16,
   "id": "f651c645",
   "metadata": {
    "execution": {
     "iopub.execute_input": "2025-03-11T15:12:50.169049Z",
     "iopub.status.busy": "2025-03-11T15:12:50.168779Z",
     "iopub.status.idle": "2025-03-11T15:12:50.173693Z",
     "shell.execute_reply": "2025-03-11T15:12:50.172823Z"
    },
    "papermill": {
     "duration": 0.020635,
     "end_time": "2025-03-11T15:12:50.175090",
     "exception": false,
     "start_time": "2025-03-11T15:12:50.154455",
     "status": "completed"
    },
    "tags": []
   },
   "outputs": [
    {
     "data": {
      "text/plain": [
       "{'PhoneService': 90.90422685928304,\n",
       " 'MultipleLines': 45.4788657035848,\n",
       " 'InternetService': 93.95398608881756,\n",
       " 'OnlineSecurity': 15.783841626538257,\n",
       " 'OnlineBackup': 27.9828785446763,\n",
       " 'DeviceProtection': 29.159978598180846,\n",
       " 'TechSupport': 16.586409844836812,\n",
       " 'StreamingTV': 43.55270197966827,\n",
       " 'StreamingMovies': 43.76672017121455}"
      ]
     },
     "execution_count": 16,
     "metadata": {},
     "output_type": "execute_result"
    }
   ],
   "source": [
    "service_churn_countss"
   ]
  },
  {
   "cell_type": "markdown",
   "id": "bb25236c",
   "metadata": {
    "papermill": {
     "duration": 0.013416,
     "end_time": "2025-03-11T15:12:50.202219",
     "exception": false,
     "start_time": "2025-03-11T15:12:50.188803",
     "status": "completed"
    },
    "tags": []
   },
   "source": [
    "## Churn Vs PaymentMethod"
   ]
  },
  {
   "cell_type": "code",
   "execution_count": 17,
   "id": "7dda7b84",
   "metadata": {
    "execution": {
     "iopub.execute_input": "2025-03-11T15:12:50.229980Z",
     "iopub.status.busy": "2025-03-11T15:12:50.229701Z",
     "iopub.status.idle": "2025-03-11T15:12:50.439201Z",
     "shell.execute_reply": "2025-03-11T15:12:50.438249Z"
    },
    "papermill": {
     "duration": 0.225166,
     "end_time": "2025-03-11T15:12:50.440838",
     "exception": false,
     "start_time": "2025-03-11T15:12:50.215672",
     "status": "completed"
    },
    "tags": []
   },
   "outputs": [
    {
     "data": {
      "image/png": "[encoded data removed]",
      "text/plain": [
       "<Figure size 1000x500 with 1 Axes>"
      ]
     },
     "metadata": {},
     "output_type": "display_data"
    }
   ],
   "source": [
    "import seaborn as sns\n",
    "import matplotlib.pyplot as plt\n",
    "\n",
    "plt.figure(figsize=(10,5))\n",
    "sns.countplot(data=data, x='PaymentMethod', hue='Churn', palette=['pink', 'purple'])\n",
    "\n",
    "plt.title('Churn Rate by Payment Method', fontsize=14)\n",
    "plt.xlabel('Payment Method', fontsize=12)\n",
    "plt.ylabel('Customer Count', fontsize=12)\n",
    "plt.xticks(rotation=45)\n",
    "plt.legend(title=\"Churn\", labels=[\"No\", \"Yes\"])\n",
    "plt.show()\n"
   ]
  },
  {
   "cell_type": "markdown",
   "id": "5365bc4b",
   "metadata": {
    "papermill": {
     "duration": 0.015227,
     "end_time": "2025-03-11T15:12:50.470767",
     "exception": false,
     "start_time": "2025-03-11T15:12:50.455540",
     "status": "completed"
    },
    "tags": []
   },
   "source": [
    "## Churn vs contract"
   ]
  },
  {
   "cell_type": "code",
   "execution_count": 18,
   "id": "4f8523e5",
   "metadata": {
    "execution": {
     "iopub.execute_input": "2025-03-11T15:12:50.500217Z",
     "iopub.status.busy": "2025-03-11T15:12:50.499977Z",
     "iopub.status.idle": "2025-03-11T15:12:50.665889Z",
     "shell.execute_reply": "2025-03-11T15:12:50.665104Z"
    },
    "papermill": {
     "duration": 0.181983,
     "end_time": "2025-03-11T15:12:50.667059",
     "exception": false,
     "start_time": "2025-03-11T15:12:50.485076",
     "status": "completed"
    },
    "tags": []
   },
   "outputs": [
    {
     "data": {
      "image/png": "[encoded data removed]",
      "text/plain": [
       "<Figure size 640x480 with 1 Axes>"
      ]
     },
     "metadata": {},
     "output_type": "display_data"
    }
   ],
   "source": [
    "import seaborn as sns\n",
    "import matplotlib.pyplot as plt\n",
    "\n",
    "# Bar plot\n",
    "sns.countplot(data=data, x=\"Contract\", hue=\"Churn\" , palette=  [\"purple\", \"pink\"] )\n",
    "plt.title(\"Churn Rate by Contract Type\")\n",
    "plt.show()\n",
    "\n"
   ]
  },
  {
   "cell_type": "code",
   "execution_count": 19,
   "id": "20edaea7",
   "metadata": {
    "execution": {
     "iopub.execute_input": "2025-03-11T15:12:50.697879Z",
     "iopub.status.busy": "2025-03-11T15:12:50.697653Z",
     "iopub.status.idle": "2025-03-11T15:12:50.710960Z",
     "shell.execute_reply": "2025-03-11T15:12:50.709856Z"
    },
    "papermill": {
     "duration": 0.030387,
     "end_time": "2025-03-11T15:12:50.712256",
     "exception": false,
     "start_time": "2025-03-11T15:12:50.681869",
     "status": "completed"
    },
    "tags": []
   },
   "outputs": [
    {
     "name": "stdout",
     "output_type": "stream",
     "text": [
      "<class 'pandas.core.frame.DataFrame'>\n",
      "Index: 7032 entries, 0 to 7042\n",
      "Data columns (total 21 columns):\n",
      " #   Column            Non-Null Count  Dtype  \n",
      "---  ------            --------------  -----  \n",
      " 0   customerID        7032 non-null   object \n",
      " 1   gender            7032 non-null   object \n",
      " 2   SeniorCitizen     7032 non-null   int64  \n",
      " 3   Partner           7032 non-null   object \n",
      " 4   Dependents        7032 non-null   object \n",
      " 5   tenure            7032 non-null   int64  \n",
      " 6   PhoneService      7032 non-null   object \n",
      " 7   MultipleLines     7032 non-null   object \n",
      " 8   InternetService   7032 non-null   object \n",
      " 9   OnlineSecurity    7032 non-null   object \n",
      " 10  OnlineBackup      7032 non-null   object \n",
      " 11  DeviceProtection  7032 non-null   object \n",
      " 12  TechSupport       7032 non-null   object \n",
      " 13  StreamingTV       7032 non-null   object \n",
      " 14  StreamingMovies   7032 non-null   object \n",
      " 15  Contract          7032 non-null   object \n",
      " 16  PaperlessBilling  7032 non-null   object \n",
      " 17  PaymentMethod     7032 non-null   object \n",
      " 18  MonthlyCharges    7032 non-null   float64\n",
      " 19  TotalCharges      7032 non-null   float64\n",
      " 20  Churn             7032 non-null   int64  \n",
      "dtypes: float64(2), int64(3), object(16)\n",
      "memory usage: 1.2+ MB\n"
     ]
    }
   ],
   "source": [
    "data.info()"
   ]
  },
  {
   "cell_type": "markdown",
   "id": "a4522271",
   "metadata": {
    "papermill": {
     "duration": 0.014625,
     "end_time": "2025-03-11T15:12:50.741841",
     "exception": false,
     "start_time": "2025-03-11T15:12:50.727216",
     "status": "completed"
    },
    "tags": []
   },
   "source": [
    "# handle outliers "
   ]
  },
  {
   "cell_type": "code",
   "execution_count": 20,
   "id": "5eac91a7",
   "metadata": {
    "execution": {
     "iopub.execute_input": "2025-03-11T15:12:50.772248Z",
     "iopub.status.busy": "2025-03-11T15:12:50.771999Z",
     "iopub.status.idle": "2025-03-11T15:12:50.779804Z",
     "shell.execute_reply": "2025-03-11T15:12:50.779023Z"
    },
    "papermill": {
     "duration": 0.024772,
     "end_time": "2025-03-11T15:12:50.781063",
     "exception": false,
     "start_time": "2025-03-11T15:12:50.756291",
     "status": "completed"
    },
    "tags": []
   },
   "outputs": [],
   "source": [
    "Q1 = data['TotalCharges'].quantile(0.25)\n",
    "Q3 = data['TotalCharges'].quantile(0.75)\n",
    "\n",
    "IQR = Q3 - Q1\n",
    "\n",
    "lower_bound = Q1 - 1.5 * IQR\n",
    "upper_bound = Q3 + 1.5 * IQR\n",
    "\n",
    "data = data[(data['TotalCharges'] >= lower_bound) & (data['TotalCharges'] <= upper_bound)]\n"
   ]
  },
  {
   "cell_type": "markdown",
   "id": "59047304",
   "metadata": {
    "papermill": {
     "duration": 0.015708,
     "end_time": "2025-03-11T15:12:50.812946",
     "exception": false,
     "start_time": "2025-03-11T15:12:50.797238",
     "status": "completed"
    },
    "tags": []
   },
   "source": [
    "# Feature Selection "
   ]
  },
  {
   "cell_type": "code",
   "execution_count": 21,
   "id": "422a1faf",
   "metadata": {
    "execution": {
     "iopub.execute_input": "2025-03-11T15:12:50.845076Z",
     "iopub.status.busy": "2025-03-11T15:12:50.844797Z",
     "iopub.status.idle": "2025-03-11T15:12:50.849671Z",
     "shell.execute_reply": "2025-03-11T15:12:50.848896Z"
    },
    "papermill": {
     "duration": 0.022761,
     "end_time": "2025-03-11T15:12:50.851030",
     "exception": false,
     "start_time": "2025-03-11T15:12:50.828269",
     "status": "completed"
    },
    "tags": []
   },
   "outputs": [],
   "source": [
    "data = data.drop(columns=['customerID'])"
   ]
  },
  {
   "cell_type": "code",
   "execution_count": 22,
   "id": "714116f8",
   "metadata": {
    "execution": {
     "iopub.execute_input": "2025-03-11T15:12:50.881641Z",
     "iopub.status.busy": "2025-03-11T15:12:50.881408Z",
     "iopub.status.idle": "2025-03-11T15:12:51.155483Z",
     "shell.execute_reply": "2025-03-11T15:12:51.154565Z"
    },
    "papermill": {
     "duration": 0.29098,
     "end_time": "2025-03-11T15:12:51.156962",
     "exception": false,
     "start_time": "2025-03-11T15:12:50.865982",
     "status": "completed"
    },
    "tags": []
   },
   "outputs": [
    {
     "data": {
      "image/png": "[encoded data removed]",
      "text/plain": [
       "<Figure size 1200x800 with 2 Axes>"
      ]
     },
     "metadata": {},
     "output_type": "display_data"
    }
   ],
   "source": [
    "import pandas as pd\n",
    "import seaborn as sns\n",
    "import matplotlib.pyplot as plt\n",
    "\n",
    "numeric_data = data.select_dtypes(include=['number'])\n",
    "\n",
    "correlation_matrix = numeric_data.corr()\n",
    "\n",
    "plt.figure(figsize=(12, 8))\n",
    "sns.heatmap(correlation_matrix, cmap='coolwarm', linewidths=0.5, annot=True, fmt=\".2f\")\n",
    "plt.title(\"Correlation Heatmap\")\n",
    "plt.show()\n",
    "\n",
    "correlation_threshold = 0.05\n",
    "selected_features = correlation_matrix[abs(correlation_matrix[\"Churn\"]) > correlation_threshold].index\n",
    "\n",
    "\n"
   ]
  },
  {
   "cell_type": "markdown",
   "id": "c7f5f304",
   "metadata": {
    "papermill": {
     "duration": 0.015606,
     "end_time": "2025-03-11T15:12:51.188969",
     "exception": false,
     "start_time": "2025-03-11T15:12:51.173363",
     "status": "completed"
    },
    "tags": []
   },
   "source": [
    "# Data Encoding"
   ]
  },
  {
   "cell_type": "code",
   "execution_count": 23,
   "id": "8201d162",
   "metadata": {
    "execution": {
     "iopub.execute_input": "2025-03-11T15:12:51.221423Z",
     "iopub.status.busy": "2025-03-11T15:12:51.221132Z",
     "iopub.status.idle": "2025-03-11T15:12:51.272954Z",
     "shell.execute_reply": "2025-03-11T15:12:51.272236Z"
    },
    "papermill": {
     "duration": 0.069505,
     "end_time": "2025-03-11T15:12:51.274274",
     "exception": false,
     "start_time": "2025-03-11T15:12:51.204769",
     "status": "completed"
    },
    "tags": []
   },
   "outputs": [],
   "source": [
    "categorical_cols = ['gender', 'Partner', 'Dependents', 'PhoneService',\n",
    "                    'MultipleLines', 'InternetService', 'OnlineSecurity',\n",
    "                    'OnlineBackup', 'DeviceProtection', 'TechSupport',\n",
    "                    'StreamingTV', 'StreamingMovies', 'Contract',\n",
    "                    'PaperlessBilling', 'PaymentMethod']\n",
    "\n",
    "encoder = OneHotEncoder(drop='first', sparse_output=False)\n",
    "\n",
    "encoded_features = encoder.fit_transform(data[categorical_cols])\n",
    "\n",
    "encoded_df = pd.DataFrame(encoded_features, columns=encoder.get_feature_names_out())\n",
    "\n",
    "encoded_df.index = data.index\n",
    "data = pd.concat([data.drop(columns=categorical_cols), encoded_df], axis=1)\n",
    "\n"
   ]
  },
  {
   "cell_type": "code",
   "execution_count": 24,
   "id": "ad5d38c5",
   "metadata": {
    "execution": {
     "iopub.execute_input": "2025-03-11T15:12:51.306579Z",
     "iopub.status.busy": "2025-03-11T15:12:51.306307Z",
     "iopub.status.idle": "2025-03-11T15:12:51.316942Z",
     "shell.execute_reply": "2025-03-11T15:12:51.315874Z"
    },
    "papermill": {
     "duration": 0.028076,
     "end_time": "2025-03-11T15:12:51.318210",
     "exception": false,
     "start_time": "2025-03-11T15:12:51.290134",
     "status": "completed"
    },
    "tags": []
   },
   "outputs": [
    {
     "name": "stdout",
     "output_type": "stream",
     "text": [
      "<class 'pandas.core.frame.DataFrame'>\n",
      "Index: 7032 entries, 0 to 7042\n",
      "Data columns (total 31 columns):\n",
      " #   Column                                 Non-Null Count  Dtype  \n",
      "---  ------                                 --------------  -----  \n",
      " 0   SeniorCitizen                          7032 non-null   int64  \n",
      " 1   tenure                                 7032 non-null   int64  \n",
      " 2   MonthlyCharges                         7032 non-null   float64\n",
      " 3   TotalCharges                           7032 non-null   float64\n",
      " 4   Churn                                  7032 non-null   int64  \n",
      " 5   gender_Male                            7032 non-null   float64\n",
      " 6   Partner_Yes                            7032 non-null   float64\n",
      " 7   Dependents_Yes                         7032 non-null   float64\n",
      " 8   PhoneService_Yes                       7032 non-null   float64\n",
      " 9   MultipleLines_No phone service         7032 non-null   float64\n",
      " 10  MultipleLines_Yes                      7032 non-null   float64\n",
      " 11  InternetService_Fiber optic            7032 non-null   float64\n",
      " 12  InternetService_No                     7032 non-null   float64\n",
      " 13  OnlineSecurity_No internet service     7032 non-null   float64\n",
      " 14  OnlineSecurity_Yes                     7032 non-null   float64\n",
      " 15  OnlineBackup_No internet service       7032 non-null   float64\n",
      " 16  OnlineBackup_Yes                       7032 non-null   float64\n",
      " 17  DeviceProtection_No internet service   7032 non-null   float64\n",
      " 18  DeviceProtection_Yes                   7032 non-null   float64\n",
      " 19  TechSupport_No internet service        7032 non-null   float64\n",
      " 20  TechSupport_Yes                        7032 non-null   float64\n",
      " 21  StreamingTV_No internet service        7032 non-null   float64\n",
      " 22  StreamingTV_Yes                        7032 non-null   float64\n",
      " 23  StreamingMovies_No internet service    7032 non-null   float64\n",
      " 24  StreamingMovies_Yes                    7032 non-null   float64\n",
      " 25  Contract_One year                      7032 non-null   float64\n",
      " 26  Contract_Two year                      7032 non-null   float64\n",
      " 27  PaperlessBilling_Yes                   7032 non-null   float64\n",
      " 28  PaymentMethod_Credit card (automatic)  7032 non-null   float64\n",
      " 29  PaymentMethod_Electronic check         7032 non-null   float64\n",
      " 30  PaymentMethod_Mailed check             7032 non-null   float64\n",
      "dtypes: float64(28), int64(3)\n",
      "memory usage: 1.7 MB\n"
     ]
    }
   ],
   "source": [
    "data.info()"
   ]
  },
  {
   "cell_type": "code",
   "execution_count": 25,
   "id": "61f592b3",
   "metadata": {
    "execution": {
     "iopub.execute_input": "2025-03-11T15:12:51.351079Z",
     "iopub.status.busy": "2025-03-11T15:12:51.350865Z",
     "iopub.status.idle": "2025-03-11T15:12:51.371475Z",
     "shell.execute_reply": "2025-03-11T15:12:51.370725Z"
    },
    "papermill": {
     "duration": 0.038174,
     "end_time": "2025-03-11T15:12:51.372530",
     "exception": false,
     "start_time": "2025-03-11T15:12:51.334356",
     "status": "completed"
    },
    "tags": []
   },
   "outputs": [
    {
     "data": {
      "text/html": [
       "<div>\n",
       "<style scoped>\n",
       "    .dataframe tbody tr th:only-of-type {\n",
       "        vertical-align: middle;\n",
       "    }\n",
       "\n",
       "    .dataframe tbody tr th {\n",
       "        vertical-align: top;\n",
       "    }\n",
       "\n",
       "    .dataframe thead th {\n",
       "        text-align: right;\n",
       "    }\n",
       "</style>\n",
       "<table border=\"1\" class=\"dataframe\">\n",
       "  <thead>\n",
       "    <tr style=\"text-align: right;\">\n",
       "      <th></th>\n",
       "      <th>SeniorCitizen</th>\n",
       "      <th>tenure</th>\n",
       "      <th>MonthlyCharges</th>\n",
       "      <th>TotalCharges</th>\n",
       "      <th>Churn</th>\n",
       "      <th>gender_Male</th>\n",
       "      <th>Partner_Yes</th>\n",
       "      <th>Dependents_Yes</th>\n",
       "      <th>PhoneService_Yes</th>\n",
       "      <th>MultipleLines_No phone service</th>\n",
       "      <th>...</th>\n",
       "      <th>StreamingTV_No internet service</th>\n",
       "      <th>StreamingTV_Yes</th>\n",
       "      <th>StreamingMovies_No internet service</th>\n",
       "      <th>StreamingMovies_Yes</th>\n",
       "      <th>Contract_One year</th>\n",
       "      <th>Contract_Two year</th>\n",
       "      <th>PaperlessBilling_Yes</th>\n",
       "      <th>PaymentMethod_Credit card (automatic)</th>\n",
       "      <th>PaymentMethod_Electronic check</th>\n",
       "      <th>PaymentMethod_Mailed check</th>\n",
       "    </tr>\n",
       "  </thead>\n",
       "  <tbody>\n",
       "    <tr>\n",
       "      <th>0</th>\n",
       "      <td>0</td>\n",
       "      <td>1</td>\n",
       "      <td>29.85</td>\n",
       "      <td>29.85</td>\n",
       "      <td>0</td>\n",
       "      <td>0.0</td>\n",
       "      <td>1.0</td>\n",
       "      <td>0.0</td>\n",
       "      <td>0.0</td>\n",
       "      <td>1.0</td>\n",
       "      <td>...</td>\n",
       "      <td>0.0</td>\n",
       "      <td>0.0</td>\n",
       "      <td>0.0</td>\n",
       "      <td>0.0</td>\n",
       "      <td>0.0</td>\n",
       "      <td>0.0</td>\n",
       "      <td>1.0</td>\n",
       "      <td>0.0</td>\n",
       "      <td>1.0</td>\n",
       "      <td>0.0</td>\n",
       "    </tr>\n",
       "    <tr>\n",
       "      <th>1</th>\n",
       "      <td>0</td>\n",
       "      <td>34</td>\n",
       "      <td>56.95</td>\n",
       "      <td>1889.50</td>\n",
       "      <td>0</td>\n",
       "      <td>1.0</td>\n",
       "      <td>0.0</td>\n",
       "      <td>0.0</td>\n",
       "      <td>1.0</td>\n",
       "      <td>0.0</td>\n",
       "      <td>...</td>\n",
       "      <td>0.0</td>\n",
       "      <td>0.0</td>\n",
       "      <td>0.0</td>\n",
       "      <td>0.0</td>\n",
       "      <td>1.0</td>\n",
       "      <td>0.0</td>\n",
       "      <td>0.0</td>\n",
       "      <td>0.0</td>\n",
       "      <td>0.0</td>\n",
       "      <td>1.0</td>\n",
       "    </tr>\n",
       "    <tr>\n",
       "      <th>2</th>\n",
       "      <td>0</td>\n",
       "      <td>2</td>\n",
       "      <td>53.85</td>\n",
       "      <td>108.15</td>\n",
       "      <td>1</td>\n",
       "      <td>1.0</td>\n",
       "      <td>0.0</td>\n",
       "      <td>0.0</td>\n",
       "      <td>1.0</td>\n",
       "      <td>0.0</td>\n",
       "      <td>...</td>\n",
       "      <td>0.0</td>\n",
       "      <td>0.0</td>\n",
       "      <td>0.0</td>\n",
       "      <td>0.0</td>\n",
       "      <td>0.0</td>\n",
       "      <td>0.0</td>\n",
       "      <td>1.0</td>\n",
       "      <td>0.0</td>\n",
       "      <td>0.0</td>\n",
       "      <td>1.0</td>\n",
       "    </tr>\n",
       "    <tr>\n",
       "      <th>3</th>\n",
       "      <td>0</td>\n",
       "      <td>45</td>\n",
       "      <td>42.30</td>\n",
       "      <td>1840.75</td>\n",
       "      <td>0</td>\n",
       "      <td>1.0</td>\n",
       "      <td>0.0</td>\n",
       "      <td>0.0</td>\n",
       "      <td>0.0</td>\n",
       "      <td>1.0</td>\n",
       "      <td>...</td>\n",
       "      <td>0.0</td>\n",
       "      <td>0.0</td>\n",
       "      <td>0.0</td>\n",
       "      <td>0.0</td>\n",
       "      <td>1.0</td>\n",
       "      <td>0.0</td>\n",
       "      <td>0.0</td>\n",
       "      <td>0.0</td>\n",
       "      <td>0.0</td>\n",
       "      <td>0.0</td>\n",
       "    </tr>\n",
       "    <tr>\n",
       "      <th>4</th>\n",
       "      <td>0</td>\n",
       "      <td>2</td>\n",
       "      <td>70.70</td>\n",
       "      <td>151.65</td>\n",
       "      <td>1</td>\n",
       "      <td>0.0</td>\n",
       "      <td>0.0</td>\n",
       "      <td>0.0</td>\n",
       "      <td>1.0</td>\n",
       "      <td>0.0</td>\n",
       "      <td>...</td>\n",
       "      <td>0.0</td>\n",
       "      <td>0.0</td>\n",
       "      <td>0.0</td>\n",
       "      <td>0.0</td>\n",
       "      <td>0.0</td>\n",
       "      <td>0.0</td>\n",
       "      <td>1.0</td>\n",
       "      <td>0.0</td>\n",
       "      <td>1.0</td>\n",
       "      <td>0.0</td>\n",
       "    </tr>\n",
       "  </tbody>\n",
       "</table>\n",
       "<p>5 rows × 31 columns</p>\n",
       "</div>"
      ],
      "text/plain": [
       "   SeniorCitizen  tenure  MonthlyCharges  TotalCharges  Churn  gender_Male  \\\n",
       "0              0       1           29.85         29.85      0          0.0   \n",
       "1              0      34           56.95       1889.50      0          1.0   \n",
       "2              0       2           53.85        108.15      1          1.0   \n",
       "3              0      45           42.30       1840.75      0          1.0   \n",
       "4              0       2           70.70        151.65      1          0.0   \n",
       "\n",
       "   Partner_Yes  Dependents_Yes  PhoneService_Yes  \\\n",
       "0          1.0             0.0               0.0   \n",
       "1          0.0             0.0               1.0   \n",
       "2          0.0             0.0               1.0   \n",
       "3          0.0             0.0               0.0   \n",
       "4          0.0             0.0               1.0   \n",
       "\n",
       "   MultipleLines_No phone service  ...  StreamingTV_No internet service  \\\n",
       "0                             1.0  ...                              0.0   \n",
       "1                             0.0  ...                              0.0   \n",
       "2                             0.0  ...                              0.0   \n",
       "3                             1.0  ...                              0.0   \n",
       "4                             0.0  ...                              0.0   \n",
       "\n",
       "   StreamingTV_Yes  StreamingMovies_No internet service  StreamingMovies_Yes  \\\n",
       "0              0.0                                  0.0                  0.0   \n",
       "1              0.0                                  0.0                  0.0   \n",
       "2              0.0                                  0.0                  0.0   \n",
       "3              0.0                                  0.0                  0.0   \n",
       "4              0.0                                  0.0                  0.0   \n",
       "\n",
       "   Contract_One year  Contract_Two year  PaperlessBilling_Yes  \\\n",
       "0                0.0                0.0                   1.0   \n",
       "1                1.0                0.0                   0.0   \n",
       "2                0.0                0.0                   1.0   \n",
       "3                1.0                0.0                   0.0   \n",
       "4                0.0                0.0                   1.0   \n",
       "\n",
       "   PaymentMethod_Credit card (automatic)  PaymentMethod_Electronic check  \\\n",
       "0                                    0.0                             1.0   \n",
       "1                                    0.0                             0.0   \n",
       "2                                    0.0                             0.0   \n",
       "3                                    0.0                             0.0   \n",
       "4                                    0.0                             1.0   \n",
       "\n",
       "   PaymentMethod_Mailed check  \n",
       "0                         0.0  \n",
       "1                         1.0  \n",
       "2                         1.0  \n",
       "3                         0.0  \n",
       "4                         0.0  \n",
       "\n",
       "[5 rows x 31 columns]"
      ]
     },
     "execution_count": 25,
     "metadata": {},
     "output_type": "execute_result"
    }
   ],
   "source": [
    "data.head()"
   ]
  },
  {
   "cell_type": "markdown",
   "id": "19702b54",
   "metadata": {
    "papermill": {
     "duration": 0.015586,
     "end_time": "2025-03-11T15:12:51.403698",
     "exception": false,
     "start_time": "2025-03-11T15:12:51.388112",
     "status": "completed"
    },
    "tags": []
   },
   "source": [
    "# Scaling Data"
   ]
  },
  {
   "cell_type": "code",
   "execution_count": 26,
   "id": "d2c7b2a6",
   "metadata": {
    "execution": {
     "iopub.execute_input": "2025-03-11T15:12:51.472640Z",
     "iopub.status.busy": "2025-03-11T15:12:51.472313Z",
     "iopub.status.idle": "2025-03-11T15:12:51.498286Z",
     "shell.execute_reply": "2025-03-11T15:12:51.497638Z"
    },
    "papermill": {
     "duration": 0.044583,
     "end_time": "2025-03-11T15:12:51.499734",
     "exception": false,
     "start_time": "2025-03-11T15:12:51.455151",
     "status": "completed"
    },
    "tags": []
   },
   "outputs": [],
   "source": [
    "from sklearn.preprocessing import StandardScaler\n",
    "\n",
    "numeric_cols = ['MonthlyCharges', 'TotalCharges', 'tenure']\n",
    "scaler = StandardScaler()\n",
    "data[numeric_cols] = scaler.fit_transform(data[numeric_cols])\n"
   ]
  },
  {
   "cell_type": "code",
   "execution_count": 27,
   "id": "d9c4b263",
   "metadata": {
    "execution": {
     "iopub.execute_input": "2025-03-11T15:12:51.532627Z",
     "iopub.status.busy": "2025-03-11T15:12:51.532388Z",
     "iopub.status.idle": "2025-03-11T15:12:51.554162Z",
     "shell.execute_reply": "2025-03-11T15:12:51.553539Z"
    },
    "papermill": {
     "duration": 0.039294,
     "end_time": "2025-03-11T15:12:51.555241",
     "exception": false,
     "start_time": "2025-03-11T15:12:51.515947",
     "status": "completed"
    },
    "tags": []
   },
   "outputs": [
    {
     "data": {
      "text/html": [
       "<div>\n",
       "<style scoped>\n",
       "    .dataframe tbody tr th:only-of-type {\n",
       "        vertical-align: middle;\n",
       "    }\n",
       "\n",
       "    .dataframe tbody tr th {\n",
       "        vertical-align: top;\n",
       "    }\n",
       "\n",
       "    .dataframe thead th {\n",
       "        text-align: right;\n",
       "    }\n",
       "</style>\n",
       "<table border=\"1\" class=\"dataframe\">\n",
       "  <thead>\n",
       "    <tr style=\"text-align: right;\">\n",
       "      <th></th>\n",
       "      <th>SeniorCitizen</th>\n",
       "      <th>tenure</th>\n",
       "      <th>MonthlyCharges</th>\n",
       "      <th>TotalCharges</th>\n",
       "      <th>Churn</th>\n",
       "      <th>gender_Male</th>\n",
       "      <th>Partner_Yes</th>\n",
       "      <th>Dependents_Yes</th>\n",
       "      <th>PhoneService_Yes</th>\n",
       "      <th>MultipleLines_No phone service</th>\n",
       "      <th>...</th>\n",
       "      <th>StreamingTV_No internet service</th>\n",
       "      <th>StreamingTV_Yes</th>\n",
       "      <th>StreamingMovies_No internet service</th>\n",
       "      <th>StreamingMovies_Yes</th>\n",
       "      <th>Contract_One year</th>\n",
       "      <th>Contract_Two year</th>\n",
       "      <th>PaperlessBilling_Yes</th>\n",
       "      <th>PaymentMethod_Credit card (automatic)</th>\n",
       "      <th>PaymentMethod_Electronic check</th>\n",
       "      <th>PaymentMethod_Mailed check</th>\n",
       "    </tr>\n",
       "  </thead>\n",
       "  <tbody>\n",
       "    <tr>\n",
       "      <th>0</th>\n",
       "      <td>0</td>\n",
       "      <td>-1.280248</td>\n",
       "      <td>-1.161694</td>\n",
       "      <td>-0.994194</td>\n",
       "      <td>0</td>\n",
       "      <td>0.0</td>\n",
       "      <td>1.0</td>\n",
       "      <td>0.0</td>\n",
       "      <td>0.0</td>\n",
       "      <td>1.0</td>\n",
       "      <td>...</td>\n",
       "      <td>0.0</td>\n",
       "      <td>0.0</td>\n",
       "      <td>0.0</td>\n",
       "      <td>0.0</td>\n",
       "      <td>0.0</td>\n",
       "      <td>0.0</td>\n",
       "      <td>1.0</td>\n",
       "      <td>0.0</td>\n",
       "      <td>1.0</td>\n",
       "      <td>0.0</td>\n",
       "    </tr>\n",
       "    <tr>\n",
       "      <th>1</th>\n",
       "      <td>0</td>\n",
       "      <td>0.064303</td>\n",
       "      <td>-0.260878</td>\n",
       "      <td>-0.173740</td>\n",
       "      <td>0</td>\n",
       "      <td>1.0</td>\n",
       "      <td>0.0</td>\n",
       "      <td>0.0</td>\n",
       "      <td>1.0</td>\n",
       "      <td>0.0</td>\n",
       "      <td>...</td>\n",
       "      <td>0.0</td>\n",
       "      <td>0.0</td>\n",
       "      <td>0.0</td>\n",
       "      <td>0.0</td>\n",
       "      <td>1.0</td>\n",
       "      <td>0.0</td>\n",
       "      <td>0.0</td>\n",
       "      <td>0.0</td>\n",
       "      <td>0.0</td>\n",
       "      <td>1.0</td>\n",
       "    </tr>\n",
       "    <tr>\n",
       "      <th>2</th>\n",
       "      <td>0</td>\n",
       "      <td>-1.239504</td>\n",
       "      <td>-0.363923</td>\n",
       "      <td>-0.959649</td>\n",
       "      <td>1</td>\n",
       "      <td>1.0</td>\n",
       "      <td>0.0</td>\n",
       "      <td>0.0</td>\n",
       "      <td>1.0</td>\n",
       "      <td>0.0</td>\n",
       "      <td>...</td>\n",
       "      <td>0.0</td>\n",
       "      <td>0.0</td>\n",
       "      <td>0.0</td>\n",
       "      <td>0.0</td>\n",
       "      <td>0.0</td>\n",
       "      <td>0.0</td>\n",
       "      <td>1.0</td>\n",
       "      <td>0.0</td>\n",
       "      <td>0.0</td>\n",
       "      <td>1.0</td>\n",
       "    </tr>\n",
       "    <tr>\n",
       "      <th>3</th>\n",
       "      <td>0</td>\n",
       "      <td>0.512486</td>\n",
       "      <td>-0.747850</td>\n",
       "      <td>-0.195248</td>\n",
       "      <td>0</td>\n",
       "      <td>1.0</td>\n",
       "      <td>0.0</td>\n",
       "      <td>0.0</td>\n",
       "      <td>0.0</td>\n",
       "      <td>1.0</td>\n",
       "      <td>...</td>\n",
       "      <td>0.0</td>\n",
       "      <td>0.0</td>\n",
       "      <td>0.0</td>\n",
       "      <td>0.0</td>\n",
       "      <td>1.0</td>\n",
       "      <td>0.0</td>\n",
       "      <td>0.0</td>\n",
       "      <td>0.0</td>\n",
       "      <td>0.0</td>\n",
       "      <td>0.0</td>\n",
       "    </tr>\n",
       "    <tr>\n",
       "      <th>4</th>\n",
       "      <td>0</td>\n",
       "      <td>-1.239504</td>\n",
       "      <td>0.196178</td>\n",
       "      <td>-0.940457</td>\n",
       "      <td>1</td>\n",
       "      <td>0.0</td>\n",
       "      <td>0.0</td>\n",
       "      <td>0.0</td>\n",
       "      <td>1.0</td>\n",
       "      <td>0.0</td>\n",
       "      <td>...</td>\n",
       "      <td>0.0</td>\n",
       "      <td>0.0</td>\n",
       "      <td>0.0</td>\n",
       "      <td>0.0</td>\n",
       "      <td>0.0</td>\n",
       "      <td>0.0</td>\n",
       "      <td>1.0</td>\n",
       "      <td>0.0</td>\n",
       "      <td>1.0</td>\n",
       "      <td>0.0</td>\n",
       "    </tr>\n",
       "  </tbody>\n",
       "</table>\n",
       "<p>5 rows × 31 columns</p>\n",
       "</div>"
      ],
      "text/plain": [
       "   SeniorCitizen    tenure  MonthlyCharges  TotalCharges  Churn  gender_Male  \\\n",
       "0              0 -1.280248       -1.161694     -0.994194      0          0.0   \n",
       "1              0  0.064303       -0.260878     -0.173740      0          1.0   \n",
       "2              0 -1.239504       -0.363923     -0.959649      1          1.0   \n",
       "3              0  0.512486       -0.747850     -0.195248      0          1.0   \n",
       "4              0 -1.239504        0.196178     -0.940457      1          0.0   \n",
       "\n",
       "   Partner_Yes  Dependents_Yes  PhoneService_Yes  \\\n",
       "0          1.0             0.0               0.0   \n",
       "1          0.0             0.0               1.0   \n",
       "2          0.0             0.0               1.0   \n",
       "3          0.0             0.0               0.0   \n",
       "4          0.0             0.0               1.0   \n",
       "\n",
       "   MultipleLines_No phone service  ...  StreamingTV_No internet service  \\\n",
       "0                             1.0  ...                              0.0   \n",
       "1                             0.0  ...                              0.0   \n",
       "2                             0.0  ...                              0.0   \n",
       "3                             1.0  ...                              0.0   \n",
       "4                             0.0  ...                              0.0   \n",
       "\n",
       "   StreamingTV_Yes  StreamingMovies_No internet service  StreamingMovies_Yes  \\\n",
       "0              0.0                                  0.0                  0.0   \n",
       "1              0.0                                  0.0                  0.0   \n",
       "2              0.0                                  0.0                  0.0   \n",
       "3              0.0                                  0.0                  0.0   \n",
       "4              0.0                                  0.0                  0.0   \n",
       "\n",
       "   Contract_One year  Contract_Two year  PaperlessBilling_Yes  \\\n",
       "0                0.0                0.0                   1.0   \n",
       "1                1.0                0.0                   0.0   \n",
       "2                0.0                0.0                   1.0   \n",
       "3                1.0                0.0                   0.0   \n",
       "4                0.0                0.0                   1.0   \n",
       "\n",
       "   PaymentMethod_Credit card (automatic)  PaymentMethod_Electronic check  \\\n",
       "0                                    0.0                             1.0   \n",
       "1                                    0.0                             0.0   \n",
       "2                                    0.0                             0.0   \n",
       "3                                    0.0                             0.0   \n",
       "4                                    0.0                             1.0   \n",
       "\n",
       "   PaymentMethod_Mailed check  \n",
       "0                         0.0  \n",
       "1                         1.0  \n",
       "2                         1.0  \n",
       "3                         0.0  \n",
       "4                         0.0  \n",
       "\n",
       "[5 rows x 31 columns]"
      ]
     },
     "execution_count": 27,
     "metadata": {},
     "output_type": "execute_result"
    }
   ],
   "source": [
    "data.head()"
   ]
  },
  {
   "cell_type": "code",
   "execution_count": 28,
   "id": "7a59c41d",
   "metadata": {
    "execution": {
     "iopub.execute_input": "2025-03-11T15:12:51.588736Z",
     "iopub.status.busy": "2025-03-11T15:12:51.588501Z",
     "iopub.status.idle": "2025-03-11T15:12:51.597656Z",
     "shell.execute_reply": "2025-03-11T15:12:51.596813Z"
    },
    "papermill": {
     "duration": 0.026918,
     "end_time": "2025-03-11T15:12:51.598908",
     "exception": false,
     "start_time": "2025-03-11T15:12:51.571990",
     "status": "completed"
    },
    "tags": []
   },
   "outputs": [
    {
     "name": "stdout",
     "output_type": "stream",
     "text": [
      "<class 'pandas.core.frame.DataFrame'>\n",
      "Index: 7032 entries, 0 to 7042\n",
      "Data columns (total 31 columns):\n",
      " #   Column                                 Non-Null Count  Dtype  \n",
      "---  ------                                 --------------  -----  \n",
      " 0   SeniorCitizen                          7032 non-null   int64  \n",
      " 1   tenure                                 7032 non-null   float64\n",
      " 2   MonthlyCharges                         7032 non-null   float64\n",
      " 3   TotalCharges                           7032 non-null   float64\n",
      " 4   Churn                                  7032 non-null   int64  \n",
      " 5   gender_Male                            7032 non-null   float64\n",
      " 6   Partner_Yes                            7032 non-null   float64\n",
      " 7   Dependents_Yes                         7032 non-null   float64\n",
      " 8   PhoneService_Yes                       7032 non-null   float64\n",
      " 9   MultipleLines_No phone service         7032 non-null   float64\n",
      " 10  MultipleLines_Yes                      7032 non-null   float64\n",
      " 11  InternetService_Fiber optic            7032 non-null   float64\n",
      " 12  InternetService_No                     7032 non-null   float64\n",
      " 13  OnlineSecurity_No internet service     7032 non-null   float64\n",
      " 14  OnlineSecurity_Yes                     7032 non-null   float64\n",
      " 15  OnlineBackup_No internet service       7032 non-null   float64\n",
      " 16  OnlineBackup_Yes                       7032 non-null   float64\n",
      " 17  DeviceProtection_No internet service   7032 non-null   float64\n",
      " 18  DeviceProtection_Yes                   7032 non-null   float64\n",
      " 19  TechSupport_No internet service        7032 non-null   float64\n",
      " 20  TechSupport_Yes                        7032 non-null   float64\n",
      " 21  StreamingTV_No internet service        7032 non-null   float64\n",
      " 22  StreamingTV_Yes                        7032 non-null   float64\n",
      " 23  StreamingMovies_No internet service    7032 non-null   float64\n",
      " 24  StreamingMovies_Yes                    7032 non-null   float64\n",
      " 25  Contract_One year                      7032 non-null   float64\n",
      " 26  Contract_Two year                      7032 non-null   float64\n",
      " 27  PaperlessBilling_Yes                   7032 non-null   float64\n",
      " 28  PaymentMethod_Credit card (automatic)  7032 non-null   float64\n",
      " 29  PaymentMethod_Electronic check         7032 non-null   float64\n",
      " 30  PaymentMethod_Mailed check             7032 non-null   float64\n",
      "dtypes: float64(29), int64(2)\n",
      "memory usage: 1.7 MB\n"
     ]
    }
   ],
   "source": [
    "data.info()"
   ]
  },
  {
   "cell_type": "markdown",
   "id": "86bb9332",
   "metadata": {
    "papermill": {
     "duration": 0.015986,
     "end_time": "2025-03-11T15:12:51.631105",
     "exception": false,
     "start_time": "2025-03-11T15:12:51.615119",
     "status": "completed"
    },
    "tags": []
   },
   "source": [
    "# Data Impalance"
   ]
  },
  {
   "cell_type": "code",
   "execution_count": 29,
   "id": "a4d944e2",
   "metadata": {
    "execution": {
     "iopub.execute_input": "2025-03-11T15:12:51.665275Z",
     "iopub.status.busy": "2025-03-11T15:12:51.665055Z",
     "iopub.status.idle": "2025-03-11T15:12:51.812382Z",
     "shell.execute_reply": "2025-03-11T15:12:51.811409Z"
    },
    "papermill": {
     "duration": 0.166123,
     "end_time": "2025-03-11T15:12:51.813751",
     "exception": false,
     "start_time": "2025-03-11T15:12:51.647628",
     "status": "completed"
    },
    "tags": []
   },
   "outputs": [
    {
     "data": {
      "image/png": "[encoded data removed]",
      "text/plain": [
       "<Figure size 600x400 with 1 Axes>"
      ]
     },
     "metadata": {},
     "output_type": "display_data"
    }
   ],
   "source": [
    "import matplotlib.pyplot as plt\n",
    "import seaborn as sns\n",
    "\n",
    "churn_counts = data['Churn'].value_counts(normalize=True) * 100\n",
    "\n",
    "plt.figure(figsize=(6,4))\n",
    "sns.barplot(x=churn_counts.index, y=churn_counts.values, palette=['purple', 'pink'])\n",
    "\n",
    "plt.title('Churn Distribution', fontsize=14)\n",
    "plt.xlabel('Churn', fontsize=12)\n",
    "plt.ylabel('Percentage', fontsize=12)\n",
    "plt.xticks([0,1], ['No (0)', 'Yes (1)'])  \n",
    "plt.ylim(0, 100)\n",
    "\n",
    "\n",
    "for i, v in enumerate(churn_counts.values):\n",
    "    plt.text(i, v + 1, f\"{v:.2f}%\", ha='center', fontsize=12)\n",
    "\n",
    "plt.show()\n"
   ]
  },
  {
   "cell_type": "code",
   "execution_count": 30,
   "id": "069411eb",
   "metadata": {
    "execution": {
     "iopub.execute_input": "2025-03-11T15:12:51.850297Z",
     "iopub.status.busy": "2025-03-11T15:12:51.850027Z",
     "iopub.status.idle": "2025-03-11T15:12:51.953430Z",
     "shell.execute_reply": "2025-03-11T15:12:51.952491Z"
    },
    "papermill": {
     "duration": 0.123185,
     "end_time": "2025-03-11T15:12:51.955163",
     "exception": false,
     "start_time": "2025-03-11T15:12:51.831978",
     "status": "completed"
    },
    "tags": []
   },
   "outputs": [
    {
     "name": "stdout",
     "output_type": "stream",
     "text": [
      "Counter({0: 5163, 1: 1869})\n",
      "Counter({0: 5163, 1: 5163})\n"
     ]
    }
   ],
   "source": [
    "from imblearn.over_sampling import SMOTE\n",
    "from collections import Counter\n",
    "\n",
    "\n",
    "X = data.drop(columns=['Churn'])  \n",
    "y = data['Churn']  \n",
    "\n",
    "\n",
    "smote = SMOTE(random_state=42)\n",
    "X_resampled, y_resampled = smote.fit_resample(X, y)\n",
    "\n",
    "\n",
    "print( Counter(y))\n",
    "print( Counter(y_resampled))\n"
   ]
  },
  {
   "cell_type": "markdown",
   "id": "1d29e9d1",
   "metadata": {
    "papermill": {
     "duration": 0.019721,
     "end_time": "2025-03-11T15:12:51.994675",
     "exception": false,
     "start_time": "2025-03-11T15:12:51.974954",
     "status": "completed"
    },
    "tags": []
   },
   "source": [
    "# Split Data "
   ]
  },
  {
   "cell_type": "code",
   "execution_count": 31,
   "id": "4d3715d7",
   "metadata": {
    "execution": {
     "iopub.execute_input": "2025-03-11T15:12:52.036030Z",
     "iopub.status.busy": "2025-03-11T15:12:52.035649Z",
     "iopub.status.idle": "2025-03-11T15:12:52.046562Z",
     "shell.execute_reply": "2025-03-11T15:12:52.045676Z"
    },
    "papermill": {
     "duration": 0.033793,
     "end_time": "2025-03-11T15:12:52.048416",
     "exception": false,
     "start_time": "2025-03-11T15:12:52.014623",
     "status": "completed"
    },
    "tags": []
   },
   "outputs": [],
   "source": [
    "from sklearn.model_selection import train_test_split\n",
    "X_train, X_test, y_train, y_test = train_test_split(X_resampled, y_resampled, test_size=0.2, random_state=42)\n",
    "\n"
   ]
  },
  {
   "cell_type": "markdown",
   "id": "d675af7a",
   "metadata": {
    "papermill": {
     "duration": 0.020083,
     "end_time": "2025-03-11T15:12:52.089570",
     "exception": false,
     "start_time": "2025-03-11T15:12:52.069487",
     "status": "completed"
    },
    "tags": []
   },
   "source": [
    "# Logistic Regression Model"
   ]
  },
  {
   "cell_type": "code",
   "execution_count": 32,
   "id": "ceef9a7e",
   "metadata": {
    "execution": {
     "iopub.execute_input": "2025-03-11T15:12:52.131258Z",
     "iopub.status.busy": "2025-03-11T15:12:52.130894Z",
     "iopub.status.idle": "2025-03-11T15:12:52.240563Z",
     "shell.execute_reply": "2025-03-11T15:12:52.239345Z"
    },
    "papermill": {
     "duration": 0.132457,
     "end_time": "2025-03-11T15:12:52.242319",
     "exception": false,
     "start_time": "2025-03-11T15:12:52.109862",
     "status": "completed"
    },
    "tags": []
   },
   "outputs": [
    {
     "name": "stdout",
     "output_type": "stream",
     "text": [
      "Accuracy: 0.7793\n",
      "\n",
      "Classification Report:\n",
      "               precision    recall  f1-score   support\n",
      "\n",
      "           0       0.79      0.76      0.77      1037\n",
      "           1       0.77      0.80      0.78      1029\n",
      "\n",
      "    accuracy                           0.78      2066\n",
      "   macro avg       0.78      0.78      0.78      2066\n",
      "weighted avg       0.78      0.78      0.78      2066\n",
      "\n",
      "\n",
      "Confusion Matrix:\n",
      " [[783 254]\n",
      " [202 827]]\n"
     ]
    }
   ],
   "source": [
    "from sklearn.linear_model import LogisticRegression\n",
    "from sklearn.metrics import accuracy_score, classification_report, confusion_matrix\n",
    "\n",
    "model1 = LogisticRegression(C=0.1 ,max_iter=1000, random_state=42)\n",
    "\n",
    "\n",
    "model1.fit(X_train, y_train)\n",
    "\n",
    "y_pred = model1.predict(X_test)\n",
    "\n",
    "\n",
    "accuracy_log = accuracy_score(y_test, y_pred)\n",
    "print(f\"Accuracy: {accuracy_log:.4f}\")\n",
    "print(\"\\nClassification Report:\\n\", classification_report(y_test, y_pred))\n",
    "print(\"\\nConfusion Matrix:\\n\", confusion_matrix(y_test, y_pred))\n"
   ]
  },
  {
   "cell_type": "markdown",
   "id": "9248c920",
   "metadata": {
    "papermill": {
     "duration": 0.019151,
     "end_time": "2025-03-11T15:12:52.281025",
     "exception": false,
     "start_time": "2025-03-11T15:12:52.261874",
     "status": "completed"
    },
    "tags": []
   },
   "source": [
    "# Random Forest Model"
   ]
  },
  {
   "cell_type": "code",
   "execution_count": 33,
   "id": "e8e48c76",
   "metadata": {
    "execution": {
     "iopub.execute_input": "2025-03-11T15:12:52.320016Z",
     "iopub.status.busy": "2025-03-11T15:12:52.319702Z",
     "iopub.status.idle": "2025-03-11T15:12:53.289730Z",
     "shell.execute_reply": "2025-03-11T15:12:53.288366Z"
    },
    "papermill": {
     "duration": 0.991801,
     "end_time": "2025-03-11T15:12:53.291579",
     "exception": false,
     "start_time": "2025-03-11T15:12:52.299778",
     "status": "completed"
    },
    "tags": []
   },
   "outputs": [
    {
     "name": "stdout",
     "output_type": "stream",
     "text": [
      "Accuracy: 0.8461\n",
      "              precision    recall  f1-score   support\n",
      "\n",
      "           0       0.85      0.85      0.85      1037\n",
      "           1       0.85      0.85      0.85      1029\n",
      "\n",
      "    accuracy                           0.85      2066\n",
      "   macro avg       0.85      0.85      0.85      2066\n",
      "weighted avg       0.85      0.85      0.85      2066\n",
      "\n"
     ]
    }
   ],
   "source": [
    "from sklearn.ensemble import RandomForestClassifier\n",
    "from sklearn.metrics import accuracy_score\n",
    "\n",
    "model = RandomForestClassifier(n_estimators=100, random_state=42)\n",
    "\n",
    "model.fit(X_train, y_train)\n",
    "\n",
    "y_pred = model.predict(X_test)\n",
    "\n",
    "accuracy_random = accuracy_score(y_test, y_pred)\n",
    "print(f\"Accuracy: {accuracy_random:.4f}\")\n",
    "\n",
    "print(classification_report(y_test, y_pred))"
   ]
  },
  {
   "cell_type": "code",
   "execution_count": 34,
   "id": "ee1a7af6",
   "metadata": {
    "execution": {
     "iopub.execute_input": "2025-03-11T15:12:53.331922Z",
     "iopub.status.busy": "2025-03-11T15:12:53.331588Z",
     "iopub.status.idle": "2025-03-11T15:12:53.538030Z",
     "shell.execute_reply": "2025-03-11T15:12:53.537089Z"
    },
    "papermill": {
     "duration": 0.228116,
     "end_time": "2025-03-11T15:12:53.539638",
     "exception": false,
     "start_time": "2025-03-11T15:12:53.311522",
     "status": "completed"
    },
    "tags": []
   },
   "outputs": [
    {
     "data": {
      "image/png": "[encoded data removed]",
      "text/plain": [
       "<Figure size 640x480 with 2 Axes>"
      ]
     },
     "metadata": {},
     "output_type": "display_data"
    }
   ],
   "source": [
    "import seaborn as sns\n",
    "import matplotlib.pyplot as plt\n",
    "from sklearn.metrics import confusion_matrix\n",
    "\n",
    "conf_matrix = confusion_matrix(y_test, y_pred)\n",
    "sns.heatmap(conf_matrix, annot=True, fmt='d', cmap=\"RdPu\")\n",
    "plt.xlabel(\"Predicted\")\n",
    "plt.ylabel(\"Actual\")\n",
    "plt.title(\"Confusion Matrix\")\n",
    "plt.show()"
   ]
  },
  {
   "cell_type": "markdown",
   "id": "e91daf42",
   "metadata": {
    "papermill": {
     "duration": 0.023873,
     "end_time": "2025-03-11T15:12:53.583136",
     "exception": false,
     "start_time": "2025-03-11T15:12:53.559263",
     "status": "completed"
    },
    "tags": []
   },
   "source": [
    "## Fine-Tuning In RandomForest"
   ]
  },
  {
   "cell_type": "code",
   "execution_count": 35,
   "id": "138d7f78",
   "metadata": {
    "execution": {
     "iopub.execute_input": "2025-03-11T15:12:53.631440Z",
     "iopub.status.busy": "2025-03-11T15:12:53.631093Z",
     "iopub.status.idle": "2025-03-11T15:15:05.547543Z",
     "shell.execute_reply": "2025-03-11T15:15:05.546348Z"
    },
    "papermill": {
     "duration": 131.956663,
     "end_time": "2025-03-11T15:15:05.567317",
     "exception": false,
     "start_time": "2025-03-11T15:12:53.610654",
     "status": "completed"
    },
    "tags": []
   },
   "outputs": [
    {
     "name": "stdout",
     "output_type": "stream",
     "text": [
      " Best: {'n_estimators': 300, 'min_samples_split': 2, 'min_samples_leaf': 1, 'max_features': 'sqrt', 'max_depth': 30}\n",
      "Accuracy: 0.8470474346563408\n",
      "Classification Report:\n",
      "               precision    recall  f1-score   support\n",
      "\n",
      "           0       0.85      0.84      0.85      1037\n",
      "           1       0.84      0.85      0.85      1029\n",
      "\n",
      "    accuracy                           0.85      2066\n",
      "   macro avg       0.85      0.85      0.85      2066\n",
      "weighted avg       0.85      0.85      0.85      2066\n",
      "\n"
     ]
    }
   ],
   "source": [
    "from sklearn.model_selection import RandomizedSearchCV\n",
    "\n",
    "rf = RandomForestClassifier(random_state=42)\n",
    "\n",
    "param_dist = {\n",
    "    'n_estimators': [100, 200, 300, 400, 500], \n",
    "    'max_depth': [10, 20, 30, None], \n",
    "    'min_samples_split': [2, 5, 10],  \n",
    "    'min_samples_leaf': [1, 2, 4],  \n",
    "    'max_features': ['sqrt', 'log2', None]  \n",
    "}\n",
    "\n",
    "\n",
    "random_search = RandomizedSearchCV(\n",
    "    estimator=rf,\n",
    "    param_distributions=param_dist,\n",
    "    n_iter=20,  \n",
    "    cv=5, \n",
    "    scoring='accuracy', \n",
    "    n_jobs=-1, \n",
    "    random_state=42\n",
    ")\n",
    "\n",
    "random_search.fit(X_train, y_train)\n",
    "\n",
    "print(\" Best:\", random_search.best_params_)\n",
    "\n",
    "best_rf = random_search.best_estimator_\n",
    "\n",
    "y_pred = best_rf.predict(X_test)\n",
    "\n",
    "print(\"Accuracy:\", accuracy_score(y_test, y_pred))\n",
    "print(\"Classification Report:\\n\", classification_report(y_test, y_pred))\n"
   ]
  },
  {
   "cell_type": "markdown",
   "id": "06d55c3f",
   "metadata": {
    "papermill": {
     "duration": 0.020754,
     "end_time": "2025-03-11T15:15:05.605923",
     "exception": false,
     "start_time": "2025-03-11T15:15:05.585169",
     "status": "completed"
    },
    "tags": []
   },
   "source": [
    "# SVM Model"
   ]
  },
  {
   "cell_type": "code",
   "execution_count": 36,
   "id": "6f19fe1a",
   "metadata": {
    "execution": {
     "iopub.execute_input": "2025-03-11T15:15:05.649268Z",
     "iopub.status.busy": "2025-03-11T15:15:05.648748Z",
     "iopub.status.idle": "2025-03-11T15:15:09.149658Z",
     "shell.execute_reply": "2025-03-11T15:15:09.148791Z"
    },
    "papermill": {
     "duration": 3.524349,
     "end_time": "2025-03-11T15:15:09.151534",
     "exception": false,
     "start_time": "2025-03-11T15:15:05.627185",
     "status": "completed"
    },
    "tags": []
   },
   "outputs": [
    {
     "name": "stdout",
     "output_type": "stream",
     "text": [
      "Accuracy: 0.8025\n",
      "              precision    recall  f1-score   support\n",
      "\n",
      "           0       0.82      0.78      0.80      1037\n",
      "           1       0.79      0.83      0.81      1029\n",
      "\n",
      "    accuracy                           0.80      2066\n",
      "   macro avg       0.80      0.80      0.80      2066\n",
      "weighted avg       0.80      0.80      0.80      2066\n",
      "\n"
     ]
    }
   ],
   "source": [
    "from sklearn.svm import SVC\n",
    "from sklearn.metrics import accuracy_score, classification_report\n",
    "\n",
    "svm_model = SVC(kernel='rbf', random_state=42)\n",
    "\n",
    "svm_model.fit(X_train, y_train)\n",
    "\n",
    "y_pred_svm = svm_model.predict(X_test)\n",
    "\n",
    "accuracy_svm = accuracy_score(y_test, y_pred_svm)\n",
    "report = classification_report(y_test, y_pred_svm)\n",
    "\n",
    "print(f\"Accuracy: {accuracy_svm:.4f}\")\n",
    "print(report)\n"
   ]
  },
  {
   "cell_type": "markdown",
   "id": "d6609e5b",
   "metadata": {
    "papermill": {
     "duration": 0.017383,
     "end_time": "2025-03-11T15:15:09.188915",
     "exception": false,
     "start_time": "2025-03-11T15:15:09.171532",
     "status": "completed"
    },
    "tags": []
   },
   "source": [
    "# Decision Tree Model"
   ]
  },
  {
   "cell_type": "code",
   "execution_count": 37,
   "id": "69bdda8a",
   "metadata": {
    "execution": {
     "iopub.execute_input": "2025-03-11T15:15:09.224456Z",
     "iopub.status.busy": "2025-03-11T15:15:09.224152Z",
     "iopub.status.idle": "2025-03-11T15:15:09.278885Z",
     "shell.execute_reply": "2025-03-11T15:15:09.277803Z"
    },
    "papermill": {
     "duration": 0.074326,
     "end_time": "2025-03-11T15:15:09.280324",
     "exception": false,
     "start_time": "2025-03-11T15:15:09.205998",
     "status": "completed"
    },
    "tags": []
   },
   "outputs": [
    {
     "name": "stdout",
     "output_type": "stream",
     "text": [
      "Accuracy: 0.7967\n",
      "              precision    recall  f1-score   support\n",
      "\n",
      "           0       0.80      0.79      0.80      1037\n",
      "           1       0.79      0.81      0.80      1029\n",
      "\n",
      "    accuracy                           0.80      2066\n",
      "   macro avg       0.80      0.80      0.80      2066\n",
      "weighted avg       0.80      0.80      0.80      2066\n",
      "\n"
     ]
    }
   ],
   "source": [
    "from sklearn.tree import DecisionTreeClassifier\n",
    "\n",
    "dt_model = DecisionTreeClassifier( max_depth=10, random_state=42)\n",
    "\n",
    "dt_model.fit(X_train, y_train)\n",
    "\n",
    "y_pred_dt = dt_model.predict(X_test)\n",
    "\n",
    "\n",
    "accuracy_Tree = accuracy_score(y_test, y_pred_dt)\n",
    "report = classification_report(y_test, y_pred_dt)\n",
    "\n",
    "print(f\"Accuracy: {accuracy_Tree:.4f}\")\n",
    "print(report)\n"
   ]
  },
  {
   "cell_type": "markdown",
   "id": "09e3b82e",
   "metadata": {
    "papermill": {
     "duration": 0.017719,
     "end_time": "2025-03-11T15:15:09.316614",
     "exception": false,
     "start_time": "2025-03-11T15:15:09.298895",
     "status": "completed"
    },
    "tags": []
   },
   "source": [
    "# Knn Model"
   ]
  },
  {
   "cell_type": "code",
   "execution_count": 38,
   "id": "368a0476",
   "metadata": {
    "execution": {
     "iopub.execute_input": "2025-03-11T15:15:09.352323Z",
     "iopub.status.busy": "2025-03-11T15:15:09.352090Z",
     "iopub.status.idle": "2025-03-11T15:15:09.608737Z",
     "shell.execute_reply": "2025-03-11T15:15:09.607684Z"
    },
    "papermill": {
     "duration": 0.276022,
     "end_time": "2025-03-11T15:15:09.610283",
     "exception": false,
     "start_time": "2025-03-11T15:15:09.334261",
     "status": "completed"
    },
    "tags": []
   },
   "outputs": [
    {
     "name": "stdout",
     "output_type": "stream",
     "text": [
      "Accuracy: 0.8219\n",
      "Classification Report:\n",
      "               precision    recall  f1-score   support\n",
      "\n",
      "           0       0.88      0.75      0.81      1037\n",
      "           1       0.78      0.90      0.83      1029\n",
      "\n",
      "    accuracy                           0.82      2066\n",
      "   macro avg       0.83      0.82      0.82      2066\n",
      "weighted avg       0.83      0.82      0.82      2066\n",
      "\n"
     ]
    }
   ],
   "source": [
    "from sklearn.neighbors import KNeighborsClassifier\n",
    "from sklearn.metrics import accuracy_score, classification_report\n",
    "\n",
    "\n",
    "knn = KNeighborsClassifier(n_neighbors=1)\n",
    "\n",
    "\n",
    "knn.fit(X_train, y_train)\n",
    "\n",
    "\n",
    "y_pred = knn.predict(X_test)\n",
    "\n",
    "accuracy_knn = accuracy_score(y_test, y_pred)\n",
    "report = classification_report(y_test, y_pred)\n",
    "\n",
    "print(f\"Accuracy: {accuracy_knn:.4f}\")\n",
    "print(\"Classification Report:\\n\", report)\n"
   ]
  },
  {
   "cell_type": "markdown",
   "id": "06954ab3",
   "metadata": {
    "execution": {
     "iopub.execute_input": "2025-03-07T01:10:11.667844Z",
     "iopub.status.busy": "2025-03-07T01:10:11.667572Z",
     "iopub.status.idle": "2025-03-07T01:10:11.671205Z",
     "shell.execute_reply": "2025-03-07T01:10:11.670433Z",
     "shell.execute_reply.started": "2025-03-07T01:10:11.667824Z"
    },
    "papermill": {
     "duration": 0.017297,
     "end_time": "2025-03-11T15:15:09.646254",
     "exception": false,
     "start_time": "2025-03-11T15:15:09.628957",
     "status": "completed"
    },
    "tags": []
   },
   "source": [
    "# DL Models"
   ]
  },
  {
   "cell_type": "code",
   "execution_count": 39,
   "id": "f26b030b",
   "metadata": {
    "execution": {
     "iopub.execute_input": "2025-03-11T15:15:09.682473Z",
     "iopub.status.busy": "2025-03-11T15:15:09.682174Z",
     "iopub.status.idle": "2025-03-11T15:15:26.242932Z",
     "shell.execute_reply": "2025-03-11T15:15:26.241854Z"
    },
    "papermill": {
     "duration": 16.580981,
     "end_time": "2025-03-11T15:15:26.244886",
     "exception": false,
     "start_time": "2025-03-11T15:15:09.663905",
     "status": "completed"
    },
    "tags": []
   },
   "outputs": [],
   "source": [
    "import tensorflow as tf\n",
    "from tensorflow import keras\n",
    "from tensorflow.keras import layers\n",
    "from tensorflow.keras.layers import Dense\n"
   ]
  },
  {
   "cell_type": "markdown",
   "id": "6f4efd81",
   "metadata": {
    "papermill": {
     "duration": 0.019704,
     "end_time": "2025-03-11T15:15:26.285669",
     "exception": false,
     "start_time": "2025-03-11T15:15:26.265965",
     "status": "completed"
    },
    "tags": []
   },
   "source": [
    "## Model 1"
   ]
  },
  {
   "cell_type": "code",
   "execution_count": 40,
   "id": "a940e7cc",
   "metadata": {
    "execution": {
     "iopub.execute_input": "2025-03-11T15:15:26.327416Z",
     "iopub.status.busy": "2025-03-11T15:15:26.326801Z",
     "iopub.status.idle": "2025-03-11T15:15:43.940400Z",
     "shell.execute_reply": "2025-03-11T15:15:43.939581Z"
    },
    "papermill": {
     "duration": 17.636066,
     "end_time": "2025-03-11T15:15:43.941775",
     "exception": false,
     "start_time": "2025-03-11T15:15:26.305709",
     "status": "completed"
    },
    "tags": []
   },
   "outputs": [
    {
     "name": "stderr",
     "output_type": "stream",
     "text": [
      "/usr/local/lib/python3.10/dist-packages/keras/src/layers/core/dense.py:87: UserWarning: Do not pass an `input_shape`/`input_dim` argument to a layer. When using Sequential models, prefer using an `Input(shape)` object as the first layer in the model instead.\n",
      "  super().__init__(activity_regularizer=activity_regularizer, **kwargs)\n"
     ]
    },
    {
     "name": "stdout",
     "output_type": "stream",
     "text": [
      "Epoch 1/20\n",
      "\u001b[1m259/259\u001b[0m \u001b[32m━━━━━━━━━━━━━━━━━━━━\u001b[0m\u001b[37m\u001b[0m \u001b[1m5s\u001b[0m 8ms/step - accuracy: 0.7453 - loss: 0.5209 - val_accuracy: 0.7652 - val_loss: 0.4703\n",
      "Epoch 2/20\n",
      "\u001b[1m259/259\u001b[0m \u001b[32m━━━━━━━━━━━━━━━━━━━━\u001b[0m\u001b[37m\u001b[0m \u001b[1m1s\u001b[0m 2ms/step - accuracy: 0.7766 - loss: 0.4655 - val_accuracy: 0.7764 - val_loss: 0.4653\n",
      "Epoch 3/20\n",
      "\u001b[1m259/259\u001b[0m \u001b[32m━━━━━━━━━━━━━━━━━━━━\u001b[0m\u001b[37m\u001b[0m \u001b[1m0s\u001b[0m 2ms/step - accuracy: 0.7894 - loss: 0.4447 - val_accuracy: 0.7851 - val_loss: 0.4586\n",
      "Epoch 4/20\n",
      "\u001b[1m259/259\u001b[0m \u001b[32m━━━━━━━━━━━━━━━━━━━━\u001b[0m\u001b[37m\u001b[0m \u001b[1m0s\u001b[0m 2ms/step - accuracy: 0.7927 - loss: 0.4340 - val_accuracy: 0.7890 - val_loss: 0.4443\n",
      "Epoch 5/20\n",
      "\u001b[1m259/259\u001b[0m \u001b[32m━━━━━━━━━━━━━━━━━━━━\u001b[0m\u001b[37m\u001b[0m \u001b[1m0s\u001b[0m 2ms/step - accuracy: 0.8024 - loss: 0.4222 - val_accuracy: 0.7870 - val_loss: 0.4507\n",
      "Epoch 6/20\n",
      "\u001b[1m259/259\u001b[0m \u001b[32m━━━━━━━━━━━━━━━━━━━━\u001b[0m\u001b[37m\u001b[0m \u001b[1m0s\u001b[0m 2ms/step - accuracy: 0.8037 - loss: 0.4263 - val_accuracy: 0.7933 - val_loss: 0.4365\n",
      "Epoch 7/20\n",
      "\u001b[1m259/259\u001b[0m \u001b[32m━━━━━━━━━━━━━━━━━━━━\u001b[0m\u001b[37m\u001b[0m \u001b[1m0s\u001b[0m 2ms/step - accuracy: 0.8185 - loss: 0.4049 - val_accuracy: 0.8069 - val_loss: 0.4325\n",
      "Epoch 8/20\n",
      "\u001b[1m259/259\u001b[0m \u001b[32m━━━━━━━━━━━━━━━━━━━━\u001b[0m\u001b[37m\u001b[0m \u001b[1m0s\u001b[0m 2ms/step - accuracy: 0.8223 - loss: 0.3958 - val_accuracy: 0.7986 - val_loss: 0.4413\n",
      "Epoch 9/20\n",
      "\u001b[1m259/259\u001b[0m \u001b[32m━━━━━━━━━━━━━━━━━━━━\u001b[0m\u001b[37m\u001b[0m \u001b[1m1s\u001b[0m 2ms/step - accuracy: 0.8311 - loss: 0.3769 - val_accuracy: 0.8088 - val_loss: 0.4225\n",
      "Epoch 10/20\n",
      "\u001b[1m259/259\u001b[0m \u001b[32m━━━━━━━━━━━━━━━━━━━━\u001b[0m\u001b[37m\u001b[0m \u001b[1m0s\u001b[0m 2ms/step - accuracy: 0.8364 - loss: 0.3728 - val_accuracy: 0.7962 - val_loss: 0.4337\n",
      "Epoch 11/20\n",
      "\u001b[1m259/259\u001b[0m \u001b[32m━━━━━━━━━━━━━━━━━━━━\u001b[0m\u001b[37m\u001b[0m \u001b[1m0s\u001b[0m 2ms/step - accuracy: 0.8446 - loss: 0.3621 - val_accuracy: 0.8078 - val_loss: 0.4266\n",
      "Epoch 12/20\n",
      "\u001b[1m259/259\u001b[0m \u001b[32m━━━━━━━━━━━━━━━━━━━━\u001b[0m\u001b[37m\u001b[0m \u001b[1m0s\u001b[0m 2ms/step - accuracy: 0.8425 - loss: 0.3476 - val_accuracy: 0.8049 - val_loss: 0.4484\n",
      "Epoch 13/20\n",
      "\u001b[1m259/259\u001b[0m \u001b[32m━━━━━━━━━━━━━━━━━━━━\u001b[0m\u001b[37m\u001b[0m \u001b[1m0s\u001b[0m 2ms/step - accuracy: 0.8502 - loss: 0.3405 - val_accuracy: 0.8074 - val_loss: 0.4329\n",
      "Epoch 14/20\n",
      "\u001b[1m259/259\u001b[0m \u001b[32m━━━━━━━━━━━━━━━━━━━━\u001b[0m\u001b[37m\u001b[0m \u001b[1m0s\u001b[0m 2ms/step - accuracy: 0.8556 - loss: 0.3283 - val_accuracy: 0.8233 - val_loss: 0.4356\n",
      "Epoch 15/20\n",
      "\u001b[1m259/259\u001b[0m \u001b[32m━━━━━━━━━━━━━━━━━━━━\u001b[0m\u001b[37m\u001b[0m \u001b[1m1s\u001b[0m 2ms/step - accuracy: 0.8629 - loss: 0.3215 - val_accuracy: 0.8166 - val_loss: 0.4219\n",
      "Epoch 16/20\n",
      "\u001b[1m259/259\u001b[0m \u001b[32m━━━━━━━━━━━━━━━━━━━━\u001b[0m\u001b[37m\u001b[0m \u001b[1m1s\u001b[0m 2ms/step - accuracy: 0.8715 - loss: 0.3013 - val_accuracy: 0.8170 - val_loss: 0.4307\n",
      "Epoch 17/20\n",
      "\u001b[1m259/259\u001b[0m \u001b[32m━━━━━━━━━━━━━━━━━━━━\u001b[0m\u001b[37m\u001b[0m \u001b[1m1s\u001b[0m 2ms/step - accuracy: 0.8754 - loss: 0.2971 - val_accuracy: 0.8228 - val_loss: 0.4325\n",
      "Epoch 18/20\n",
      "\u001b[1m259/259\u001b[0m \u001b[32m━━━━━━━━━━━━━━━━━━━━\u001b[0m\u001b[37m\u001b[0m \u001b[1m1s\u001b[0m 2ms/step - accuracy: 0.8818 - loss: 0.2801 - val_accuracy: 0.8209 - val_loss: 0.4331\n",
      "Epoch 19/20\n",
      "\u001b[1m259/259\u001b[0m \u001b[32m━━━━━━━━━━━━━━━━━━━━\u001b[0m\u001b[37m\u001b[0m \u001b[1m0s\u001b[0m 2ms/step - accuracy: 0.8869 - loss: 0.2782 - val_accuracy: 0.8224 - val_loss: 0.4388\n",
      "Epoch 20/20\n",
      "\u001b[1m259/259\u001b[0m \u001b[32m━━━━━━━━━━━━━━━━━━━━\u001b[0m\u001b[37m\u001b[0m \u001b[1m0s\u001b[0m 2ms/step - accuracy: 0.8946 - loss: 0.2618 - val_accuracy: 0.8228 - val_loss: 0.4339\n",
      "\u001b[1m65/65\u001b[0m \u001b[32m━━━━━━━━━━━━━━━━━━━━\u001b[0m\u001b[37m\u001b[0m \u001b[1m0s\u001b[0m 1ms/step - accuracy: 0.8303 - loss: 0.4190\n",
      "Test Accuracy: 0.8228\n"
     ]
    }
   ],
   "source": [
    "# Building the Neural Network Model\n",
    "model = keras.Sequential([\n",
    "    Dense(128, activation='relu', input_shape=(X_train.shape[1],)),\n",
    "    Dense(64, activation='relu'),\n",
    "    Dense(32, activation='relu'),\n",
    "    Dense(1, activation='sigmoid')  \n",
    "])\n",
    "\n",
    "model.compile(optimizer='adam', loss='binary_crossentropy', metrics=['accuracy'])\n",
    "\n",
    "history = model.fit(X_train, y_train, epochs=20, batch_size=32, validation_data=(X_test, y_test))\n",
    "\n",
    "\n",
    "test_loss, test_acc = model.evaluate(X_test, y_test)\n",
    "print(f\"Test Accuracy: {test_acc:.4f}\")"
   ]
  },
  {
   "cell_type": "code",
   "execution_count": 41,
   "id": "3f4651b7",
   "metadata": {
    "execution": {
     "iopub.execute_input": "2025-03-11T15:15:43.997440Z",
     "iopub.status.busy": "2025-03-11T15:15:43.997160Z",
     "iopub.status.idle": "2025-03-11T15:15:44.201571Z",
     "shell.execute_reply": "2025-03-11T15:15:44.200649Z"
    },
    "papermill": {
     "duration": 0.233122,
     "end_time": "2025-03-11T15:15:44.202950",
     "exception": false,
     "start_time": "2025-03-11T15:15:43.969828",
     "status": "completed"
    },
    "tags": []
   },
   "outputs": [
    {
     "data": {
      "image/png": "[encoded data removed]",
      "text/plain": [
       "<Figure size 640x480 with 1 Axes>"
      ]
     },
     "metadata": {},
     "output_type": "display_data"
    }
   ],
   "source": [
    "import matplotlib.pyplot as plt\n",
    "\n",
    "plt.plot(history.history['accuracy'], label='Train Accuracy', color='purple')\n",
    "plt.plot(history.history['val_accuracy'], label='Validation Accuracy', color='pink')\n",
    "plt.xlabel('Epochs')\n",
    "plt.ylabel('Accuracy')\n",
    "plt.legend()\n",
    "plt.title('Training and Validation Accuracy')\n",
    "plt.show()\n"
   ]
  },
  {
   "cell_type": "markdown",
   "id": "5e5717de",
   "metadata": {
    "papermill": {
     "duration": 0.028302,
     "end_time": "2025-03-11T15:15:44.260736",
     "exception": false,
     "start_time": "2025-03-11T15:15:44.232434",
     "status": "completed"
    },
    "tags": []
   },
   "source": [
    "## Model 2"
   ]
  },
  {
   "cell_type": "code",
   "execution_count": 42,
   "id": "25011690",
   "metadata": {
    "execution": {
     "iopub.execute_input": "2025-03-11T15:15:44.318286Z",
     "iopub.status.busy": "2025-03-11T15:15:44.318037Z",
     "iopub.status.idle": "2025-03-11T15:16:39.950801Z",
     "shell.execute_reply": "2025-03-11T15:16:39.950029Z"
    },
    "papermill": {
     "duration": 55.663122,
     "end_time": "2025-03-11T15:16:39.952200",
     "exception": false,
     "start_time": "2025-03-11T15:15:44.289078",
     "status": "completed"
    },
    "tags": []
   },
   "outputs": [
    {
     "name": "stdout",
     "output_type": "stream",
     "text": [
      "Epoch 1/50\n"
     ]
    },
    {
     "name": "stderr",
     "output_type": "stream",
     "text": [
      "/usr/local/lib/python3.10/dist-packages/keras/src/layers/core/dense.py:87: UserWarning: Do not pass an `input_shape`/`input_dim` argument to a layer. When using Sequential models, prefer using an `Input(shape)` object as the first layer in the model instead.\n",
      "  super().__init__(activity_regularizer=activity_regularizer, **kwargs)\n"
     ]
    },
    {
     "name": "stdout",
     "output_type": "stream",
     "text": [
      "\u001b[1m517/517\u001b[0m \u001b[32m━━━━━━━━━━━━━━━━━━━━\u001b[0m\u001b[37m\u001b[0m \u001b[1m7s\u001b[0m 7ms/step - accuracy: 0.7505 - loss: 0.5207 - val_accuracy: 0.7657 - val_loss: 0.4738\n",
      "Epoch 2/50\n",
      "\u001b[1m517/517\u001b[0m \u001b[32m━━━━━━━━━━━━━━━━━━━━\u001b[0m\u001b[37m\u001b[0m \u001b[1m1s\u001b[0m 2ms/step - accuracy: 0.7720 - loss: 0.4783 - val_accuracy: 0.7759 - val_loss: 0.4643\n",
      "Epoch 3/50\n",
      "\u001b[1m517/517\u001b[0m \u001b[32m━━━━━━━━━━━━━━━━━━━━\u001b[0m\u001b[37m\u001b[0m \u001b[1m1s\u001b[0m 2ms/step - accuracy: 0.7823 - loss: 0.4593 - val_accuracy: 0.7798 - val_loss: 0.4636\n",
      "Epoch 4/50\n",
      "\u001b[1m517/517\u001b[0m \u001b[32m━━━━━━━━━━━━━━━━━━━━\u001b[0m\u001b[37m\u001b[0m \u001b[1m1s\u001b[0m 2ms/step - accuracy: 0.7965 - loss: 0.4536 - val_accuracy: 0.7890 - val_loss: 0.4569\n",
      "Epoch 5/50\n",
      "\u001b[1m517/517\u001b[0m \u001b[32m━━━━━━━━━━━━━━━━━━━━\u001b[0m\u001b[37m\u001b[0m \u001b[1m1s\u001b[0m 2ms/step - accuracy: 0.7921 - loss: 0.4456 - val_accuracy: 0.7836 - val_loss: 0.4735\n",
      "Epoch 6/50\n",
      "\u001b[1m517/517\u001b[0m \u001b[32m━━━━━━━━━━━━━━━━━━━━\u001b[0m\u001b[37m\u001b[0m \u001b[1m1s\u001b[0m 2ms/step - accuracy: 0.7922 - loss: 0.4405 - val_accuracy: 0.7909 - val_loss: 0.4518\n",
      "Epoch 7/50\n",
      "\u001b[1m517/517\u001b[0m \u001b[32m━━━━━━━━━━━━━━━━━━━━\u001b[0m\u001b[37m\u001b[0m \u001b[1m1s\u001b[0m 2ms/step - accuracy: 0.7980 - loss: 0.4296 - val_accuracy: 0.7870 - val_loss: 0.4487\n",
      "Epoch 8/50\n",
      "\u001b[1m517/517\u001b[0m \u001b[32m━━━━━━━━━━━━━━━━━━━━\u001b[0m\u001b[37m\u001b[0m \u001b[1m1s\u001b[0m 2ms/step - accuracy: 0.8022 - loss: 0.4251 - val_accuracy: 0.7962 - val_loss: 0.4412\n",
      "Epoch 9/50\n",
      "\u001b[1m517/517\u001b[0m \u001b[32m━━━━━━━━━━━━━━━━━━━━\u001b[0m\u001b[37m\u001b[0m \u001b[1m1s\u001b[0m 2ms/step - accuracy: 0.8119 - loss: 0.4112 - val_accuracy: 0.7938 - val_loss: 0.4397\n",
      "Epoch 10/50\n",
      "\u001b[1m517/517\u001b[0m \u001b[32m━━━━━━━━━━━━━━━━━━━━\u001b[0m\u001b[37m\u001b[0m \u001b[1m1s\u001b[0m 2ms/step - accuracy: 0.8113 - loss: 0.4156 - val_accuracy: 0.7885 - val_loss: 0.4403\n",
      "Epoch 11/50\n",
      "\u001b[1m517/517\u001b[0m \u001b[32m━━━━━━━━━━━━━━━━━━━━\u001b[0m\u001b[37m\u001b[0m \u001b[1m1s\u001b[0m 2ms/step - accuracy: 0.8194 - loss: 0.4038 - val_accuracy: 0.8045 - val_loss: 0.4364\n",
      "Epoch 12/50\n",
      "\u001b[1m517/517\u001b[0m \u001b[32m━━━━━━━━━━━━━━━━━━━━\u001b[0m\u001b[37m\u001b[0m \u001b[1m1s\u001b[0m 2ms/step - accuracy: 0.8207 - loss: 0.3927 - val_accuracy: 0.7933 - val_loss: 0.4411\n",
      "Epoch 13/50\n",
      "\u001b[1m517/517\u001b[0m \u001b[32m━━━━━━━━━━━━━━━━━━━━\u001b[0m\u001b[37m\u001b[0m \u001b[1m1s\u001b[0m 2ms/step - accuracy: 0.8212 - loss: 0.3951 - val_accuracy: 0.7822 - val_loss: 0.4638\n",
      "Epoch 14/50\n",
      "\u001b[1m517/517\u001b[0m \u001b[32m━━━━━━━━━━━━━━━━━━━━\u001b[0m\u001b[37m\u001b[0m \u001b[1m1s\u001b[0m 2ms/step - accuracy: 0.8266 - loss: 0.3839 - val_accuracy: 0.8107 - val_loss: 0.4261\n",
      "Epoch 15/50\n",
      "\u001b[1m517/517\u001b[0m \u001b[32m━━━━━━━━━━━━━━━━━━━━\u001b[0m\u001b[37m\u001b[0m \u001b[1m1s\u001b[0m 2ms/step - accuracy: 0.8244 - loss: 0.3896 - val_accuracy: 0.8030 - val_loss: 0.4237\n",
      "Epoch 16/50\n",
      "\u001b[1m517/517\u001b[0m \u001b[32m━━━━━━━━━━━━━━━━━━━━\u001b[0m\u001b[37m\u001b[0m \u001b[1m1s\u001b[0m 2ms/step - accuracy: 0.8337 - loss: 0.3707 - val_accuracy: 0.7948 - val_loss: 0.4478\n",
      "Epoch 17/50\n",
      "\u001b[1m517/517\u001b[0m \u001b[32m━━━━━━━━━━━━━━━━━━━━\u001b[0m\u001b[37m\u001b[0m \u001b[1m1s\u001b[0m 2ms/step - accuracy: 0.8282 - loss: 0.3928 - val_accuracy: 0.7986 - val_loss: 0.4332\n",
      "Epoch 18/50\n",
      "\u001b[1m517/517\u001b[0m \u001b[32m━━━━━━━━━━━━━━━━━━━━\u001b[0m\u001b[37m\u001b[0m \u001b[1m1s\u001b[0m 2ms/step - accuracy: 0.8369 - loss: 0.3716 - val_accuracy: 0.8127 - val_loss: 0.4235\n",
      "Epoch 19/50\n",
      "\u001b[1m517/517\u001b[0m \u001b[32m━━━━━━━━━━━━━━━━━━━━\u001b[0m\u001b[37m\u001b[0m \u001b[1m1s\u001b[0m 2ms/step - accuracy: 0.8497 - loss: 0.3550 - val_accuracy: 0.8006 - val_loss: 0.4203\n",
      "Epoch 20/50\n",
      "\u001b[1m517/517\u001b[0m \u001b[32m━━━━━━━━━━━━━━━━━━━━\u001b[0m\u001b[37m\u001b[0m \u001b[1m1s\u001b[0m 2ms/step - accuracy: 0.8333 - loss: 0.3701 - val_accuracy: 0.8035 - val_loss: 0.4153\n",
      "Epoch 21/50\n",
      "\u001b[1m517/517\u001b[0m \u001b[32m━━━━━━━━━━━━━━━━━━━━\u001b[0m\u001b[37m\u001b[0m \u001b[1m1s\u001b[0m 2ms/step - accuracy: 0.8462 - loss: 0.3539 - val_accuracy: 0.8088 - val_loss: 0.4115\n",
      "Epoch 22/50\n",
      "\u001b[1m517/517\u001b[0m \u001b[32m━━━━━━━━━━━━━━━━━━━━\u001b[0m\u001b[37m\u001b[0m \u001b[1m1s\u001b[0m 2ms/step - accuracy: 0.8533 - loss: 0.3391 - val_accuracy: 0.8199 - val_loss: 0.4164\n",
      "Epoch 23/50\n",
      "\u001b[1m517/517\u001b[0m \u001b[32m━━━━━━━━━━━━━━━━━━━━\u001b[0m\u001b[37m\u001b[0m \u001b[1m1s\u001b[0m 2ms/step - accuracy: 0.8423 - loss: 0.3587 - val_accuracy: 0.8209 - val_loss: 0.4074\n",
      "Epoch 24/50\n",
      "\u001b[1m517/517\u001b[0m \u001b[32m━━━━━━━━━━━━━━━━━━━━\u001b[0m\u001b[37m\u001b[0m \u001b[1m1s\u001b[0m 2ms/step - accuracy: 0.8462 - loss: 0.3495 - val_accuracy: 0.8204 - val_loss: 0.4150\n",
      "Epoch 25/50\n",
      "\u001b[1m517/517\u001b[0m \u001b[32m━━━━━━━━━━━━━━━━━━━━\u001b[0m\u001b[37m\u001b[0m \u001b[1m1s\u001b[0m 2ms/step - accuracy: 0.8606 - loss: 0.3252 - val_accuracy: 0.8146 - val_loss: 0.4153\n",
      "Epoch 26/50\n",
      "\u001b[1m517/517\u001b[0m \u001b[32m━━━━━━━━━━━━━━━━━━━━\u001b[0m\u001b[37m\u001b[0m \u001b[1m1s\u001b[0m 2ms/step - accuracy: 0.8504 - loss: 0.3390 - val_accuracy: 0.8204 - val_loss: 0.4123\n",
      "Epoch 27/50\n",
      "\u001b[1m517/517\u001b[0m \u001b[32m━━━━━━━━━━━━━━━━━━━━\u001b[0m\u001b[37m\u001b[0m \u001b[1m1s\u001b[0m 2ms/step - accuracy: 0.8524 - loss: 0.3259 - val_accuracy: 0.8088 - val_loss: 0.4226\n",
      "Epoch 28/50\n",
      "\u001b[1m517/517\u001b[0m \u001b[32m━━━━━━━━━━━━━━━━━━━━\u001b[0m\u001b[37m\u001b[0m \u001b[1m1s\u001b[0m 2ms/step - accuracy: 0.8618 - loss: 0.3169 - val_accuracy: 0.8151 - val_loss: 0.4065\n",
      "Epoch 29/50\n",
      "\u001b[1m517/517\u001b[0m \u001b[32m━━━━━━━━━━━━━━━━━━━━\u001b[0m\u001b[37m\u001b[0m \u001b[1m1s\u001b[0m 2ms/step - accuracy: 0.8596 - loss: 0.3134 - val_accuracy: 0.8204 - val_loss: 0.3982\n",
      "Epoch 30/50\n",
      "\u001b[1m517/517\u001b[0m \u001b[32m━━━━━━━━━━━━━━━━━━━━\u001b[0m\u001b[37m\u001b[0m \u001b[1m1s\u001b[0m 2ms/step - accuracy: 0.8672 - loss: 0.3124 - val_accuracy: 0.8287 - val_loss: 0.4113\n",
      "Epoch 31/50\n",
      "\u001b[1m517/517\u001b[0m \u001b[32m━━━━━━━━━━━━━━━━━━━━\u001b[0m\u001b[37m\u001b[0m \u001b[1m1s\u001b[0m 2ms/step - accuracy: 0.8692 - loss: 0.3136 - val_accuracy: 0.8195 - val_loss: 0.3979\n",
      "Epoch 32/50\n",
      "\u001b[1m517/517\u001b[0m \u001b[32m━━━━━━━━━━━━━━━━━━━━\u001b[0m\u001b[37m\u001b[0m \u001b[1m1s\u001b[0m 2ms/step - accuracy: 0.8731 - loss: 0.2984 - val_accuracy: 0.8301 - val_loss: 0.3994\n",
      "Epoch 33/50\n",
      "\u001b[1m517/517\u001b[0m \u001b[32m━━━━━━━━━━━━━━━━━━━━\u001b[0m\u001b[37m\u001b[0m \u001b[1m1s\u001b[0m 2ms/step - accuracy: 0.8657 - loss: 0.3096 - val_accuracy: 0.8267 - val_loss: 0.3985\n",
      "Epoch 34/50\n",
      "\u001b[1m517/517\u001b[0m \u001b[32m━━━━━━━━━━━━━━━━━━━━\u001b[0m\u001b[37m\u001b[0m \u001b[1m1s\u001b[0m 2ms/step - accuracy: 0.8696 - loss: 0.3126 - val_accuracy: 0.8233 - val_loss: 0.4044\n",
      "Epoch 35/50\n",
      "\u001b[1m517/517\u001b[0m \u001b[32m━━━━━━━━━━━━━━━━━━━━\u001b[0m\u001b[37m\u001b[0m \u001b[1m1s\u001b[0m 2ms/step - accuracy: 0.8679 - loss: 0.3001 - val_accuracy: 0.8345 - val_loss: 0.3878\n",
      "Epoch 36/50\n",
      "\u001b[1m517/517\u001b[0m \u001b[32m━━━━━━━━━━━━━━━━━━━━\u001b[0m\u001b[37m\u001b[0m \u001b[1m1s\u001b[0m 2ms/step - accuracy: 0.8612 - loss: 0.3043 - val_accuracy: 0.8306 - val_loss: 0.3893\n",
      "Epoch 37/50\n",
      "\u001b[1m517/517\u001b[0m \u001b[32m━━━━━━━━━━━━━━━━━━━━\u001b[0m\u001b[37m\u001b[0m \u001b[1m1s\u001b[0m 2ms/step - accuracy: 0.8792 - loss: 0.2739 - val_accuracy: 0.8262 - val_loss: 0.4142\n",
      "Epoch 38/50\n",
      "\u001b[1m517/517\u001b[0m \u001b[32m━━━━━━━━━━━━━━━━━━━━\u001b[0m\u001b[37m\u001b[0m \u001b[1m1s\u001b[0m 2ms/step - accuracy: 0.8743 - loss: 0.2825 - val_accuracy: 0.8335 - val_loss: 0.4019\n",
      "Epoch 39/50\n",
      "\u001b[1m517/517\u001b[0m \u001b[32m━━━━━━━━━━━━━━━━━━━━\u001b[0m\u001b[37m\u001b[0m \u001b[1m1s\u001b[0m 2ms/step - accuracy: 0.8700 - loss: 0.3005 - val_accuracy: 0.8330 - val_loss: 0.3994\n",
      "Epoch 40/50\n",
      "\u001b[1m517/517\u001b[0m \u001b[32m━━━━━━━━━━━━━━━━━━━━\u001b[0m\u001b[37m\u001b[0m \u001b[1m1s\u001b[0m 2ms/step - accuracy: 0.8812 - loss: 0.2817 - val_accuracy: 0.8340 - val_loss: 0.4120\n",
      "Epoch 41/50\n",
      "\u001b[1m517/517\u001b[0m \u001b[32m━━━━━━━━━━━━━━━━━━━━\u001b[0m\u001b[37m\u001b[0m \u001b[1m1s\u001b[0m 2ms/step - accuracy: 0.8765 - loss: 0.2841 - val_accuracy: 0.8301 - val_loss: 0.4014\n",
      "Epoch 42/50\n",
      "\u001b[1m517/517\u001b[0m \u001b[32m━━━━━━━━━━━━━━━━━━━━\u001b[0m\u001b[37m\u001b[0m \u001b[1m1s\u001b[0m 2ms/step - accuracy: 0.8792 - loss: 0.2853 - val_accuracy: 0.8320 - val_loss: 0.4171\n",
      "Epoch 43/50\n",
      "\u001b[1m517/517\u001b[0m \u001b[32m━━━━━━━━━━━━━━━━━━━━\u001b[0m\u001b[37m\u001b[0m \u001b[1m1s\u001b[0m 2ms/step - accuracy: 0.8768 - loss: 0.2924 - val_accuracy: 0.8340 - val_loss: 0.4008\n",
      "Epoch 44/50\n",
      "\u001b[1m517/517\u001b[0m \u001b[32m━━━━━━━━━━━━━━━━━━━━\u001b[0m\u001b[37m\u001b[0m \u001b[1m1s\u001b[0m 2ms/step - accuracy: 0.8709 - loss: 0.2866 - val_accuracy: 0.8248 - val_loss: 0.4117\n",
      "Epoch 45/50\n",
      "\u001b[1m517/517\u001b[0m \u001b[32m━━━━━━━━━━━━━━━━━━━━\u001b[0m\u001b[37m\u001b[0m \u001b[1m1s\u001b[0m 2ms/step - accuracy: 0.8788 - loss: 0.2749 - val_accuracy: 0.8330 - val_loss: 0.3965\n",
      "Epoch 46/50\n",
      "\u001b[1m517/517\u001b[0m \u001b[32m━━━━━━━━━━━━━━━━━━━━\u001b[0m\u001b[37m\u001b[0m \u001b[1m1s\u001b[0m 2ms/step - accuracy: 0.8738 - loss: 0.2878 - val_accuracy: 0.8287 - val_loss: 0.3985\n",
      "Epoch 47/50\n",
      "\u001b[1m517/517\u001b[0m \u001b[32m━━━━━━━━━━━━━━━━━━━━\u001b[0m\u001b[37m\u001b[0m \u001b[1m1s\u001b[0m 2ms/step - accuracy: 0.8799 - loss: 0.2758 - val_accuracy: 0.8383 - val_loss: 0.4089\n",
      "Epoch 48/50\n",
      "\u001b[1m517/517\u001b[0m \u001b[32m━━━━━━━━━━━━━━━━━━━━\u001b[0m\u001b[37m\u001b[0m \u001b[1m1s\u001b[0m 2ms/step - accuracy: 0.8802 - loss: 0.2767 - val_accuracy: 0.8369 - val_loss: 0.4046\n",
      "Epoch 49/50\n",
      "\u001b[1m517/517\u001b[0m \u001b[32m━━━━━━━━━━━━━━━━━━━━\u001b[0m\u001b[37m\u001b[0m \u001b[1m1s\u001b[0m 2ms/step - accuracy: 0.8860 - loss: 0.2630 - val_accuracy: 0.8287 - val_loss: 0.4098\n",
      "Epoch 50/50\n",
      "\u001b[1m517/517\u001b[0m \u001b[32m━━━━━━━━━━━━━━━━━━━━\u001b[0m\u001b[37m\u001b[0m \u001b[1m1s\u001b[0m 2ms/step - accuracy: 0.8846 - loss: 0.2635 - val_accuracy: 0.8364 - val_loss: 0.4210\n",
      "\u001b[1m65/65\u001b[0m \u001b[32m━━━━━━━━━━━━━━━━━━━━\u001b[0m\u001b[37m\u001b[0m \u001b[1m1s\u001b[0m 6ms/step - accuracy: 0.8384 - loss: 0.4116\n",
      "Test Accuracy: 0.8364\n"
     ]
    }
   ],
   "source": [
    "from tensorflow.keras.layers import BatchNormalization, Dropout\n",
    "from tensorflow.keras.optimizers import AdamW\n",
    "from tensorflow import keras\n",
    "from tensorflow.keras.layers import Dense\n",
    "\n",
    "# Building the Neural Network Model\n",
    "model = keras.Sequential([\n",
    "    Dense(256, activation='relu', input_shape=(X_train.shape[1],)),\n",
    "    Dropout(0.3),  \n",
    "    Dense(128, activation='relu'),\n",
    "    Dropout(0.3),\n",
    "    Dense(64, activation='relu'),\n",
    "    Dense(32, activation='relu'),\n",
    "    Dense(1, activation='sigmoid')\n",
    "])\n",
    "\n",
    "model.compile(optimizer=AdamW(learning_rate=0.001), \n",
    "              loss='binary_crossentropy', \n",
    "              metrics=['accuracy'])\n",
    "\n",
    "history1 = model.fit(X_train, y_train, epochs=50, batch_size=16, validation_data=(X_test, y_test))\n",
    "\n",
    "# Evaluate the model\n",
    "test_loss1, test_acc1 = model.evaluate(X_test, y_test)\n",
    "print(f\"Test Accuracy: {test_acc1:.4f}\")\n"
   ]
  },
  {
   "cell_type": "code",
   "execution_count": 43,
   "id": "1d13f22a",
   "metadata": {
    "execution": {
     "iopub.execute_input": "2025-03-11T15:16:40.093035Z",
     "iopub.status.busy": "2025-03-11T15:16:40.092755Z",
     "iopub.status.idle": "2025-03-11T15:16:40.294530Z",
     "shell.execute_reply": "2025-03-11T15:16:40.293633Z"
    },
    "papermill": {
     "duration": 0.272581,
     "end_time": "2025-03-11T15:16:40.295733",
     "exception": false,
     "start_time": "2025-03-11T15:16:40.023152",
     "status": "completed"
    },
    "tags": []
   },
   "outputs": [
    {
     "data": {
      "image/png": "[encoded data removed]",
      "text/plain": [
       "<Figure size 640x480 with 1 Axes>"
      ]
     },
     "metadata": {},
     "output_type": "display_data"
    }
   ],
   "source": [
    "import matplotlib.pyplot as plt\n",
    "\n",
    "plt.plot(history.history['accuracy'], label='Train Accuracy', color='purple')\n",
    "plt.plot(history.history['val_accuracy'], label='Validation Accuracy', color='pink')\n",
    "plt.xlabel('Epochs')\n",
    "plt.ylabel('Accuracy')\n",
    "plt.legend()\n",
    "plt.title('Training and Validation Accuracy')\n",
    "plt.show()\n"
   ]
  },
  {
   "cell_type": "markdown",
   "id": "049eaaf9",
   "metadata": {
    "papermill": {
     "duration": 0.068553,
     "end_time": "2025-03-11T15:16:40.434823",
     "exception": false,
     "start_time": "2025-03-11T15:16:40.366270",
     "status": "completed"
    },
    "tags": []
   },
   "source": [
    "## Model 3"
   ]
  },
  {
   "cell_type": "code",
   "execution_count": 44,
   "id": "49f459f2",
   "metadata": {
    "execution": {
     "iopub.execute_input": "2025-03-11T15:16:40.574473Z",
     "iopub.status.busy": "2025-03-11T15:16:40.574092Z",
     "iopub.status.idle": "2025-03-11T15:16:50.382479Z",
     "shell.execute_reply": "2025-03-11T15:16:50.381417Z"
    },
    "papermill": {
     "duration": 9.879575,
     "end_time": "2025-03-11T15:16:50.384040",
     "exception": false,
     "start_time": "2025-03-11T15:16:40.504465",
     "status": "completed"
    },
    "tags": []
   },
   "outputs": [
    {
     "name": "stdout",
     "output_type": "stream",
     "text": [
      "Accuracy: 0.8374\n"
     ]
    }
   ],
   "source": [
    "from sklearn.neural_network import MLPClassifier\n",
    "\n",
    "model = MLPClassifier(hidden_layer_sizes=(128, 64, 32),  \n",
    "                      activation='relu',                 \n",
    "                      solver='adam',                  \n",
    "                      max_iter=200,                     \n",
    "                      random_state=42)\n",
    "\n",
    "\n",
    "model.fit(X_train, y_train)\n",
    "\n",
    "\n",
    "accuracy_dl3 = model.score(X_test, y_test)\n",
    "print(f\"Accuracy: {accuracy_dl3:.4f}\")\n"
   ]
  },
  {
   "cell_type": "markdown",
   "id": "047eb8bf",
   "metadata": {
    "papermill": {
     "duration": 0.069515,
     "end_time": "2025-03-11T15:16:50.527686",
     "exception": false,
     "start_time": "2025-03-11T15:16:50.458171",
     "status": "completed"
    },
    "tags": []
   },
   "source": [
    "# visualize the accuracy for models"
   ]
  },
  {
   "cell_type": "code",
   "execution_count": 45,
   "id": "3f3df472",
   "metadata": {
    "execution": {
     "iopub.execute_input": "2025-03-11T15:16:50.670711Z",
     "iopub.status.busy": "2025-03-11T15:16:50.670399Z",
     "iopub.status.idle": "2025-03-11T15:16:50.888138Z",
     "shell.execute_reply": "2025-03-11T15:16:50.887223Z"
    },
    "papermill": {
     "duration": 0.291271,
     "end_time": "2025-03-11T15:16:50.889527",
     "exception": false,
     "start_time": "2025-03-11T15:16:50.598256",
     "status": "completed"
    },
    "tags": []
   },
   "outputs": [
    {
     "data": {
      "image/png": "[encoded data removed]",
      "text/plain": [
       "<Figure size 1000x500 with 1 Axes>"
      ]
     },
     "metadata": {},
     "output_type": "display_data"
    }
   ],
   "source": [
    "import matplotlib.pyplot as plt\n",
    "\n",
    "# Storing accuracies of all models\n",
    "model_accuracies = {\n",
    "    \"KNN\": accuracy_knn,\n",
    "    \"SVM\": accuracy_svm,\n",
    "    \"Random Forest\": accuracy_random,\n",
    "    \"Logistic Regression\": accuracy_log,\n",
    "    \"Decision Tree\": accuracy_Tree,\n",
    "    \"Neural Network (Basic)\": test_acc,\n",
    "    \"Neural Network (Dropout & AdamW)\": test_acc1,\n",
    "    \"MLP Classifier\": accuracy_dl3\n",
    "}\n",
    "\n",
    "\n",
    "colors = [\n",
    "    \"#ffb3e6\",  # Light pink\n",
    "    \"#ff66b2\",  # Medium pink\n",
    "    \"#ff3385\",  # Dark pink\n",
    "    \"#cc0099\",  # Deep pink-purple\n",
    "    \"#990099\",  # Purple\n",
    "    \"#660066\",  # Dark purple\n",
    "    \"#993366\",  # Rose\n",
    "    \"#cc6699\"   # Muted pink\n",
    "]\n",
    "\n",
    "\n",
    "plt.figure(figsize=(10, 5))\n",
    "plt.bar(model_accuracies.keys(), model_accuracies.values(), color=colors)\n",
    "\n",
    "plt.xlabel(\"Models\")\n",
    "plt.ylabel(\"Accuracy\")\n",
    "plt.title(\"Model Accuracy Comparison\")\n",
    "plt.xticks(rotation=30, ha=\"right\")  \n",
    "plt.ylim(0, 1) \n",
    "plt.grid(axis=\"y\", linestyle=\"--\", alpha=0.7)\n",
    "\n",
    "# Show accuracy values on bars\n",
    "for i, v in enumerate(model_accuracies.values()):\n",
    "    plt.text(i, v + 0.02, f\"{v:.2f}\", ha='center', fontsize=10)\n",
    "\n",
    "plt.show()\n"
   ]
  },
  {
   "cell_type": "code",
   "execution_count": null,
   "id": "9af71890",
   "metadata": {
    "papermill": {
     "duration": 0.070145,
     "end_time": "2025-03-11T15:16:51.033189",
     "exception": false,
     "start_time": "2025-03-11T15:16:50.963044",
     "status": "completed"
    },
    "tags": []
   },
   "outputs": [],
   "source": []
  }
 ],
 "metadata": {
  "kaggle": {
   "accelerator": "nvidiaTeslaT4",
   "dataSources": [
    {
     "datasetId": 13996,
     "sourceId": 18858,
     "sourceType": "datasetVersion"
    }
   ],
   "dockerImageVersionId": 30918,
   "isGpuEnabled": true,
   "isInternetEnabled": true,
   "language": "python",
   "sourceType": "notebook"
  },
  "kernelspec": {
   "display_name": "Python 3",
   "language": "python",
   "name": "python3"
  },
  "language_info": {
   "codemirror_mode": {
    "name": "ipython",
    "version": 3
   },
   "file_extension": ".py",
   "mimetype": "text/x-python",
   "name": "python",
   "nbconvert_exporter": "python",
   "pygments_lexer": "ipython3",
   "version": "3.10.12"
  },
  "papermill": {
   "default_parameters": {},
   "duration": 253.486705,
   "end_time": "2025-03-11T15:16:53.908436",
   "environment_variables": {},
   "exception": null,
   "input_path": "__notebook__.ipynb",
   "output_path": "__notebook__.ipynb",
   "parameters": {},
   "start_time": "2025-03-11T15:12:40.421731",
   "version": "2.6.0"
  }
 },
 "nbformat": 4,
 "nbformat_minor": 5
}
